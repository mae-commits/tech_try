{
 "cells": [
  {
   "cell_type": "markdown",
   "metadata": {},
   "source": [
    "# Polars try\n",
    "\n",
    "This is the example of polars, which is one of packages of python, for comparing time for reading data to pandas."
   ]
  },
  {
   "cell_type": "code",
   "execution_count": 1,
   "metadata": {},
   "outputs": [],
   "source": [
    "import time\n",
    "import pandas as pd\n",
    "import polars as pl\n",
    "from datetime import datetime"
   ]
  },
  {
   "cell_type": "code",
   "execution_count": 2,
   "metadata": {},
   "outputs": [
    {
     "name": "stdout",
     "output_type": "stream",
     "text": [
      "shape: (3, 4)\n",
      "┌─────────┬─────────────────────┬───────┬────────┐\n",
      "│ integer ┆ date                ┆ float ┆ string │\n",
      "│ ---     ┆ ---                 ┆ ---   ┆ ---    │\n",
      "│ i64     ┆ datetime[μs]        ┆ f64   ┆ str    │\n",
      "╞═════════╪═════════════════════╪═══════╪════════╡\n",
      "│ 1       ┆ 2025-01-01 00:00:00 ┆ 4.0   ┆ a      │\n",
      "│ 2       ┆ 2025-01-02 00:00:00 ┆ 5.0   ┆ b      │\n",
      "│ 3       ┆ 2025-01-03 00:00:00 ┆ 6.0   ┆ c      │\n",
      "└─────────┴─────────────────────┴───────┴────────┘\n",
      "Calculate time: 0.004622936248779297  [s]\n"
     ]
    }
   ],
   "source": [
    "start_time = time.time()\n",
    "df = pl.DataFrame(\n",
    "    {\n",
    "        \"integer\": [1, 2, 3],\n",
    "        \"date\": [\n",
    "            datetime(2025, 1, 1),\n",
    "            datetime(2025, 1, 2),\n",
    "            datetime(2025, 1, 3),\n",
    "        ],\n",
    "        \"float\": [4.0, 5.0, 6.0],\n",
    "        \"string\": [\"a\", \"b\", \"c\"]\n",
    "    }\n",
    ")\n",
    "end_time = time.time()\n",
    "print(df)\n",
    "print(\"Calculate time:\", end_time - start_time, ' [s]')"
   ]
  },
  {
   "cell_type": "code",
   "execution_count": 3,
   "metadata": {},
   "outputs": [
    {
     "name": "stdout",
     "output_type": "stream",
     "text": [
      "Concating time: 0.004324913024902344\n"
     ]
    },
    {
     "data": {
      "text/html": [
       "<div><style>\n",
       ".dataframe > thead > tr,\n",
       ".dataframe > tbody > tr {\n",
       "  text-align: right;\n",
       "  white-space: pre-wrap;\n",
       "}\n",
       "</style>\n",
       "<small>shape: (324_521, 12)</small><table border=\"1\" class=\"dataframe\"><thead><tr><th></th><th>xx</th><th>xy</th><th>xz</th><th>yx</th><th>yy</th><th>yz</th><th>zx</th><th>zy</th><th>zz</th><th>Unnamed: 0</th><th>xx_yy</th></tr><tr><td>i64</td><td>f64</td><td>f64</td><td>f64</td><td>f64</td><td>f64</td><td>f64</td><td>f64</td><td>f64</td><td>f64</td><td>f64</td><td>f64</td></tr></thead><tbody><tr><td>0</td><td>-3.85354</td><td>-0.02747</td><td>-0.46924</td><td>-0.17947</td><td>-0.96837</td><td>-0.34293</td><td>-0.76518</td><td>-0.35146</td><td>-3.00874</td><td>0.0</td><td>-7.70708</td></tr><tr><td>1</td><td>-3.91122</td><td>0.16417</td><td>0.02368</td><td>0.11499</td><td>-0.9787</td><td>-0.08939</td><td>0.21029</td><td>0.03088</td><td>-2.82456</td><td>1.0</td><td>-7.82244</td></tr><tr><td>2</td><td>-4.43528</td><td>-0.09935</td><td>0.1269</td><td>-0.14693</td><td>-1.06729</td><td>0.0671</td><td>-0.04337</td><td>-0.06472</td><td>-2.26729</td><td>2.0</td><td>-8.87056</td></tr><tr><td>3</td><td>-3.0288</td><td>-0.14833</td><td>0.15565</td><td>-0.19327</td><td>-0.97022</td><td>-0.10448</td><td>-0.21451</td><td>-0.01428</td><td>-3.78778</td><td>3.0</td><td>-6.0576</td></tr><tr><td>4</td><td>-4.5201</td><td>-0.01229</td><td>-0.08943</td><td>0.02149</td><td>-1.03491</td><td>-0.03804</td><td>-0.182</td><td>-0.02524</td><td>-2.23512</td><td>4.0</td><td>-9.0402</td></tr><tr><td>&hellip;</td><td>&hellip;</td><td>&hellip;</td><td>&hellip;</td><td>&hellip;</td><td>&hellip;</td><td>&hellip;</td><td>&hellip;</td><td>&hellip;</td><td>&hellip;</td><td>&hellip;</td><td>&hellip;</td></tr><tr><td>324516</td><td>-2.36612</td><td>0.31216</td><td>-0.35163</td><td>0.25368</td><td>-2.64347</td><td>0.50133</td><td>-0.36336</td><td>0.5942</td><td>-2.93827</td><td>58.0</td><td>-4.73224</td></tr><tr><td>324517</td><td>-2.66237</td><td>1.0779</td><td>-0.57559</td><td>1.15373</td><td>-2.86178</td><td>0.00226</td><td>-0.56399</td><td>0.03943</td><td>-2.43494</td><td>59.0</td><td>-5.32474</td></tr><tr><td>324518</td><td>-2.57601</td><td>0.60111</td><td>-0.02628</td><td>0.62938</td><td>-2.54958</td><td>-0.27836</td><td>-0.02877</td><td>-0.36992</td><td>-2.60398</td><td>60.0</td><td>-5.15202</td></tr><tr><td>324519</td><td>-2.38832</td><td>-0.07387</td><td>-0.12397</td><td>0.07404</td><td>-2.66193</td><td>0.03944</td><td>-0.1639</td><td>0.14783</td><td>-2.65735</td><td>61.0</td><td>-4.77664</td></tr><tr><td>324520</td><td>-2.50281</td><td>0.13079</td><td>-0.01248</td><td>0.20532</td><td>-2.52105</td><td>0.07235</td><td>-0.1412</td><td>0.13708</td><td>-2.75077</td><td>62.0</td><td>-5.00562</td></tr></tbody></table></div>"
      ],
      "text/plain": [
       "shape: (324_521, 12)\n",
       "┌────────┬──────────┬──────────┬──────────┬───┬──────────┬──────────┬────────────┬──────────┐\n",
       "│        ┆ xx       ┆ xy       ┆ xz       ┆ … ┆ zy       ┆ zz       ┆ Unnamed: 0 ┆ xx_yy    │\n",
       "│ ---    ┆ ---      ┆ ---      ┆ ---      ┆   ┆ ---      ┆ ---      ┆ ---        ┆ ---      │\n",
       "│ i64    ┆ f64      ┆ f64      ┆ f64      ┆   ┆ f64      ┆ f64      ┆ f64        ┆ f64      │\n",
       "╞════════╪══════════╪══════════╪══════════╪═══╪══════════╪══════════╪════════════╪══════════╡\n",
       "│ 0      ┆ -3.85354 ┆ -0.02747 ┆ -0.46924 ┆ … ┆ -0.35146 ┆ -3.00874 ┆ 0.0        ┆ -7.70708 │\n",
       "│ 1      ┆ -3.91122 ┆ 0.16417  ┆ 0.02368  ┆ … ┆ 0.03088  ┆ -2.82456 ┆ 1.0        ┆ -7.82244 │\n",
       "│ 2      ┆ -4.43528 ┆ -0.09935 ┆ 0.1269   ┆ … ┆ -0.06472 ┆ -2.26729 ┆ 2.0        ┆ -8.87056 │\n",
       "│ 3      ┆ -3.0288  ┆ -0.14833 ┆ 0.15565  ┆ … ┆ -0.01428 ┆ -3.78778 ┆ 3.0        ┆ -6.0576  │\n",
       "│ 4      ┆ -4.5201  ┆ -0.01229 ┆ -0.08943 ┆ … ┆ -0.02524 ┆ -2.23512 ┆ 4.0        ┆ -9.0402  │\n",
       "│ …      ┆ …        ┆ …        ┆ …        ┆ … ┆ …        ┆ …        ┆ …          ┆ …        │\n",
       "│ 324516 ┆ -2.36612 ┆ 0.31216  ┆ -0.35163 ┆ … ┆ 0.5942   ┆ -2.93827 ┆ 58.0       ┆ -4.73224 │\n",
       "│ 324517 ┆ -2.66237 ┆ 1.0779   ┆ -0.57559 ┆ … ┆ 0.03943  ┆ -2.43494 ┆ 59.0       ┆ -5.32474 │\n",
       "│ 324518 ┆ -2.57601 ┆ 0.60111  ┆ -0.02628 ┆ … ┆ -0.36992 ┆ -2.60398 ┆ 60.0       ┆ -5.15202 │\n",
       "│ 324519 ┆ -2.38832 ┆ -0.07387 ┆ -0.12397 ┆ … ┆ 0.14783  ┆ -2.65735 ┆ 61.0       ┆ -4.77664 │\n",
       "│ 324520 ┆ -2.50281 ┆ 0.13079  ┆ -0.01248 ┆ … ┆ 0.13708  ┆ -2.75077 ┆ 62.0       ┆ -5.00562 │\n",
       "└────────┴──────────┴──────────┴──────────┴───┴──────────┴──────────┴────────────┴──────────┘"
      ]
     },
     "execution_count": 3,
     "metadata": {},
     "output_type": "execute_result"
    }
   ],
   "source": [
    "# start_time = time.time()\n",
    "\n",
    "df_polars = pl.read_csv('./df_O_OK.csv')\n",
    "\n",
    "# end_time = time.time()\n",
    "\n",
    "df_polars.head()\n",
    "\n",
    "# print(f\"Reading time: {end_time - start_time}\")\n",
    "\n",
    "start_time = time.time()\n",
    "\n",
    "df_polars = df_polars.with_columns((pl.col(\"xx\") * 2).alias(\"xx_yy\"))\n",
    "\n",
    "end_time = time.time()\n",
    "\n",
    "print(f\"Concating time: {end_time - start_time}\")\n",
    "df_polars"
   ]
  },
  {
   "cell_type": "code",
   "execution_count": 4,
   "metadata": {},
   "outputs": [
    {
     "name": "stdout",
     "output_type": "stream",
     "text": [
      "Concating time: 0.002630949020385742\n"
     ]
    }
   ],
   "source": [
    "# start_time = time.time()\n",
    "\n",
    "df_pandas = pd.read_csv('./df_O_OK.csv')\n",
    "\n",
    "# end_time = time.time()\n",
    "\n",
    "df_pandas.head()\n",
    "\n",
    "# print(f\"Reading time: {end_time - start_time}\")\n",
    "\n",
    "start_time = time.time()\n",
    "\n",
    "df_pandas['new_column'] = df_pandas['xx'] ** 2\n",
    "\n",
    "end_time = time.time()\n",
    "\n",
    "print(f\"Concating time: {end_time - start_time}\")\n"
   ]
  },
  {
   "cell_type": "code",
   "execution_count": 5,
   "metadata": {},
   "outputs": [
    {
     "data": {
      "text/html": [
       "<div><style>\n",
       ".dataframe > thead > tr,\n",
       ".dataframe > tbody > tr {\n",
       "  text-align: right;\n",
       "  white-space: pre-wrap;\n",
       "}\n",
       "</style>\n",
       "<small>shape: (5, 12)</small><table border=\"1\" class=\"dataframe\"><thead><tr><th></th><th>xx</th><th>xy</th><th>xz</th><th>yx</th><th>yy</th><th>yz</th><th>zx</th><th>zy</th><th>zz</th><th>Unnamed: 0</th><th>xx_yy</th></tr><tr><td>i64</td><td>f64</td><td>f64</td><td>f64</td><td>f64</td><td>f64</td><td>f64</td><td>f64</td><td>f64</td><td>f64</td><td>f64</td><td>f64</td></tr></thead><tbody><tr><td>0</td><td>-3.85354</td><td>-0.02747</td><td>-0.46924</td><td>-0.17947</td><td>-0.96837</td><td>-0.34293</td><td>-0.76518</td><td>-0.35146</td><td>-3.00874</td><td>0.0</td><td>-7.70708</td></tr><tr><td>1</td><td>-3.91122</td><td>0.16417</td><td>0.02368</td><td>0.11499</td><td>-0.9787</td><td>-0.08939</td><td>0.21029</td><td>0.03088</td><td>-2.82456</td><td>1.0</td><td>-7.82244</td></tr><tr><td>2</td><td>-4.43528</td><td>-0.09935</td><td>0.1269</td><td>-0.14693</td><td>-1.06729</td><td>0.0671</td><td>-0.04337</td><td>-0.06472</td><td>-2.26729</td><td>2.0</td><td>-8.87056</td></tr><tr><td>3</td><td>-3.0288</td><td>-0.14833</td><td>0.15565</td><td>-0.19327</td><td>-0.97022</td><td>-0.10448</td><td>-0.21451</td><td>-0.01428</td><td>-3.78778</td><td>3.0</td><td>-6.0576</td></tr><tr><td>4</td><td>-4.5201</td><td>-0.01229</td><td>-0.08943</td><td>0.02149</td><td>-1.03491</td><td>-0.03804</td><td>-0.182</td><td>-0.02524</td><td>-2.23512</td><td>4.0</td><td>-9.0402</td></tr></tbody></table></div>"
      ],
      "text/plain": [
       "shape: (5, 12)\n",
       "┌─────┬──────────┬──────────┬──────────┬───┬──────────┬──────────┬────────────┬──────────┐\n",
       "│     ┆ xx       ┆ xy       ┆ xz       ┆ … ┆ zy       ┆ zz       ┆ Unnamed: 0 ┆ xx_yy    │\n",
       "│ --- ┆ ---      ┆ ---      ┆ ---      ┆   ┆ ---      ┆ ---      ┆ ---        ┆ ---      │\n",
       "│ i64 ┆ f64      ┆ f64      ┆ f64      ┆   ┆ f64      ┆ f64      ┆ f64        ┆ f64      │\n",
       "╞═════╪══════════╪══════════╪══════════╪═══╪══════════╪══════════╪════════════╪══════════╡\n",
       "│ 0   ┆ -3.85354 ┆ -0.02747 ┆ -0.46924 ┆ … ┆ -0.35146 ┆ -3.00874 ┆ 0.0        ┆ -7.70708 │\n",
       "│ 1   ┆ -3.91122 ┆ 0.16417  ┆ 0.02368  ┆ … ┆ 0.03088  ┆ -2.82456 ┆ 1.0        ┆ -7.82244 │\n",
       "│ 2   ┆ -4.43528 ┆ -0.09935 ┆ 0.1269   ┆ … ┆ -0.06472 ┆ -2.26729 ┆ 2.0        ┆ -8.87056 │\n",
       "│ 3   ┆ -3.0288  ┆ -0.14833 ┆ 0.15565  ┆ … ┆ -0.01428 ┆ -3.78778 ┆ 3.0        ┆ -6.0576  │\n",
       "│ 4   ┆ -4.5201  ┆ -0.01229 ┆ -0.08943 ┆ … ┆ -0.02524 ┆ -2.23512 ┆ 4.0        ┆ -9.0402  │\n",
       "└─────┴──────────┴──────────┴──────────┴───┴──────────┴──────────┴────────────┴──────────┘"
      ]
     },
     "execution_count": 5,
     "metadata": {},
     "output_type": "execute_result"
    }
   ],
   "source": [
    "df_polars.head()"
   ]
  },
  {
   "cell_type": "code",
   "execution_count": 6,
   "metadata": {},
   "outputs": [
    {
     "data": {
      "text/html": [
       "<div><style>\n",
       ".dataframe > thead > tr,\n",
       ".dataframe > tbody > tr {\n",
       "  text-align: right;\n",
       "  white-space: pre-wrap;\n",
       "}\n",
       "</style>\n",
       "<small>shape: (5, 2)</small><table border=\"1\" class=\"dataframe\"><thead><tr><th>xx</th><th>yy</th></tr><tr><td>f64</td><td>f64</td></tr></thead><tbody><tr><td>-3.85354</td><td>-0.96837</td></tr><tr><td>-3.91122</td><td>-0.9787</td></tr><tr><td>-4.43528</td><td>-1.06729</td></tr><tr><td>-3.0288</td><td>-0.97022</td></tr><tr><td>-4.5201</td><td>-1.03491</td></tr></tbody></table></div>"
      ],
      "text/plain": [
       "shape: (5, 2)\n",
       "┌──────────┬──────────┐\n",
       "│ xx       ┆ yy       │\n",
       "│ ---      ┆ ---      │\n",
       "│ f64      ┆ f64      │\n",
       "╞══════════╪══════════╡\n",
       "│ -3.85354 ┆ -0.96837 │\n",
       "│ -3.91122 ┆ -0.9787  │\n",
       "│ -4.43528 ┆ -1.06729 │\n",
       "│ -3.0288  ┆ -0.97022 │\n",
       "│ -4.5201  ┆ -1.03491 │\n",
       "└──────────┴──────────┘"
      ]
     },
     "execution_count": 6,
     "metadata": {},
     "output_type": "execute_result"
    }
   ],
   "source": [
    "df_polars.select(pl.col(\"xx\", \"yy\")).head()"
   ]
  },
  {
   "cell_type": "code",
   "execution_count": 7,
   "metadata": {},
   "outputs": [
    {
     "name": "stdout",
     "output_type": "stream",
     "text": [
      "The size of the file is 27.43991756439209 mega bytes\n"
     ]
    }
   ],
   "source": [
    "import os\n",
    "\n",
    "file_path = './df_O_OK.csv'\n",
    "file_size = os.path.getsize(file_path) / 1024**2\n",
    "\n",
    "print(f\"The size of the file is {file_size} mega bytes\")"
   ]
  },
  {
   "cell_type": "markdown",
   "metadata": {},
   "source": [
    "## Pandas concat"
   ]
  },
  {
   "cell_type": "code",
   "execution_count": 8,
   "metadata": {},
   "outputs": [
    {
     "name": "stdout",
     "output_type": "stream",
     "text": [
      "Concating time: 0.006927013397216797\n"
     ]
    },
    {
     "data": {
      "text/plain": [
       "(324521, 24)"
      ]
     },
     "execution_count": 8,
     "metadata": {},
     "output_type": "execute_result"
    }
   ],
   "source": [
    "# Horizontally concat\n",
    "start_time = time.time()\n",
    "\n",
    "df_pandas_new = pd.concat([df_pandas, df_pandas], axis=1)\n",
    "\n",
    "end_time = time.time()\n",
    "\n",
    "print(f\"Concating time: {end_time - start_time}\")\n",
    "df_pandas_new.shape"
   ]
  },
  {
   "cell_type": "code",
   "execution_count": 9,
   "metadata": {},
   "outputs": [
    {
     "name": "stdout",
     "output_type": "stream",
     "text": [
      "Concating time: 0.008468866348266602\n"
     ]
    },
    {
     "data": {
      "text/plain": [
       "(649042, 12)"
      ]
     },
     "execution_count": 9,
     "metadata": {},
     "output_type": "execute_result"
    }
   ],
   "source": [
    "# Vertically concat\n",
    "start_time = time.time()\n",
    "\n",
    "df_pandas_new = pd.concat([df_pandas, df_pandas], axis=0)\n",
    "\n",
    "end_time = time.time()\n",
    "\n",
    "print(f\"Concating time: {end_time - start_time}\")\n",
    "df_pandas_new.shape"
   ]
  },
  {
   "cell_type": "markdown",
   "metadata": {},
   "source": [
    "## Polars concat"
   ]
  },
  {
   "cell_type": "code",
   "execution_count": 10,
   "metadata": {},
   "outputs": [
    {
     "name": "stdout",
     "output_type": "stream",
     "text": [
      "Concating time: 0.007108211517333984\n"
     ]
    },
    {
     "data": {
      "text/plain": [
       "(649042, 12)"
      ]
     },
     "execution_count": 10,
     "metadata": {},
     "output_type": "execute_result"
    }
   ],
   "source": [
    "# Vertically concat\n",
    "start_time = time.time()\n",
    "\n",
    "df_polars_new = pl.concat([df_polars, df_polars])\n",
    "end_time = time.time()\n",
    "\n",
    "print(f\"Concating time: {end_time - start_time}\")\n",
    "df_polars_new.head()\n",
    "df_polars_new.shape"
   ]
  },
  {
   "cell_type": "code",
   "execution_count": 11,
   "metadata": {},
   "outputs": [
    {
     "name": "stdout",
     "output_type": "stream",
     "text": [
      "Concating time: 0.008697748184204102\n"
     ]
    },
    {
     "data": {
      "text/plain": [
       "(324521, 24)"
      ]
     },
     "execution_count": 11,
     "metadata": {},
     "output_type": "execute_result"
    }
   ],
   "source": [
    "# Horizontally concat\n",
    "df_polars_copy = df_polars.clone().rename({\n",
    "    'xx': 'xx_copy', 'xy': 'xy_copy', 'xz': 'xz_copy', \n",
    "    'yx': 'yx_copy', 'yy': 'yy_copy', 'yz': 'yz_copy', \n",
    "    'zx': 'zx_copy', 'zy': 'zy_copy', 'zz': 'zz_copy', \n",
    "    '': 'copy','Unnamed: 0': 'Unnamed: 0 copy','xx_yy': 'xx_yy_copy'\n",
    "    })\n",
    "\n",
    "start_time = time.time()\n",
    "\n",
    "df_polars_new = pl.concat([df_polars, df_polars_copy], how='horizontal')\n",
    "end_time = time.time()\n",
    "\n",
    "print(f\"Concating time: {end_time - start_time}\")\n",
    "df_polars_new.head()\n",
    "df_polars_new.shape"
   ]
  },
  {
   "cell_type": "markdown",
   "metadata": {},
   "source": [
    "## Pandas select"
   ]
  },
  {
   "cell_type": "code",
   "execution_count": 12,
   "metadata": {},
   "outputs": [
    {
     "name": "stdout",
     "output_type": "stream",
     "text": [
      "Select time: 0.009365081787109375\n"
     ]
    },
    {
     "data": {
      "text/html": [
       "<div>\n",
       "<style scoped>\n",
       "    .dataframe tbody tr th:only-of-type {\n",
       "        vertical-align: middle;\n",
       "    }\n",
       "\n",
       "    .dataframe tbody tr th {\n",
       "        vertical-align: top;\n",
       "    }\n",
       "\n",
       "    .dataframe thead th {\n",
       "        text-align: right;\n",
       "    }\n",
       "</style>\n",
       "<table border=\"1\" class=\"dataframe\">\n",
       "  <thead>\n",
       "    <tr style=\"text-align: right;\">\n",
       "      <th></th>\n",
       "      <th>xx</th>\n",
       "      <th>xy</th>\n",
       "      <th>xz</th>\n",
       "      <th>yy</th>\n",
       "      <th>zz</th>\n",
       "    </tr>\n",
       "  </thead>\n",
       "  <tbody>\n",
       "    <tr>\n",
       "      <th>0</th>\n",
       "      <td>-3.85354</td>\n",
       "      <td>-0.02747</td>\n",
       "      <td>-0.46924</td>\n",
       "      <td>-0.96837</td>\n",
       "      <td>-3.00874</td>\n",
       "    </tr>\n",
       "    <tr>\n",
       "      <th>1</th>\n",
       "      <td>-3.91122</td>\n",
       "      <td>0.16417</td>\n",
       "      <td>0.02368</td>\n",
       "      <td>-0.97870</td>\n",
       "      <td>-2.82456</td>\n",
       "    </tr>\n",
       "    <tr>\n",
       "      <th>2</th>\n",
       "      <td>-4.43528</td>\n",
       "      <td>-0.09935</td>\n",
       "      <td>0.12690</td>\n",
       "      <td>-1.06729</td>\n",
       "      <td>-2.26729</td>\n",
       "    </tr>\n",
       "    <tr>\n",
       "      <th>3</th>\n",
       "      <td>-3.02880</td>\n",
       "      <td>-0.14833</td>\n",
       "      <td>0.15565</td>\n",
       "      <td>-0.97022</td>\n",
       "      <td>-3.78778</td>\n",
       "    </tr>\n",
       "    <tr>\n",
       "      <th>4</th>\n",
       "      <td>-4.52010</td>\n",
       "      <td>-0.01229</td>\n",
       "      <td>-0.08943</td>\n",
       "      <td>-1.03491</td>\n",
       "      <td>-2.23512</td>\n",
       "    </tr>\n",
       "  </tbody>\n",
       "</table>\n",
       "</div>"
      ],
      "text/plain": [
       "        xx       xy       xz       yy       zz\n",
       "0 -3.85354 -0.02747 -0.46924 -0.96837 -3.00874\n",
       "1 -3.91122  0.16417  0.02368 -0.97870 -2.82456\n",
       "2 -4.43528 -0.09935  0.12690 -1.06729 -2.26729\n",
       "3 -3.02880 -0.14833  0.15565 -0.97022 -3.78778\n",
       "4 -4.52010 -0.01229 -0.08943 -1.03491 -2.23512"
      ]
     },
     "execution_count": 12,
     "metadata": {},
     "output_type": "execute_result"
    }
   ],
   "source": [
    "start_time = time.time()\n",
    "\n",
    "pd_df_selected = df_pandas[['xx', 'xy', 'xz', 'yy', 'zz']]\n",
    "\n",
    "end_time = time.time()\n",
    "\n",
    "print(f\"Select time: {end_time - start_time}\")\n",
    "pd_df_selected.head()"
   ]
  },
  {
   "cell_type": "markdown",
   "metadata": {},
   "source": [
    "## Polars select"
   ]
  },
  {
   "cell_type": "code",
   "execution_count": 13,
   "metadata": {},
   "outputs": [
    {
     "name": "stdout",
     "output_type": "stream",
     "text": [
      "Select time: 6.890296936035156e-05\n"
     ]
    }
   ],
   "source": [
    "start_time = time.time()\n",
    "\n",
    "pl_df_selected = df_polars[['xx', 'xy', 'xz', 'yy', 'zz']]\n",
    "\n",
    "end_time = time.time()\n",
    "\n",
    "print(f\"Select time: {end_time - start_time}\")"
   ]
  },
  {
   "cell_type": "markdown",
   "metadata": {},
   "source": [
    "# Polars try (take 2)"
   ]
  },
  {
   "cell_type": "markdown",
   "metadata": {},
   "source": [
    "## Create the new data by polars, and then convert data to csv"
   ]
  },
  {
   "cell_type": "code",
   "execution_count": 26,
   "metadata": {},
   "outputs": [
    {
     "name": "stdout",
     "output_type": "stream",
     "text": [
      "343 ms ± 5.93 ms per loop (mean ± std. dev. of 7 runs, 1 loop each)\n"
     ]
    }
   ],
   "source": [
    "import numpy as np\n",
    "import polars as pl\n",
    "import pandas as pd\n",
    "\n",
    "# create random DataFrame with 10 million rows and 2 columns\n",
    "pl_df = pl.DataFrame({\n",
    "    'a': np.random.rand(10000000),\n",
    "    'b': np.random.rand(10000000)})\n",
    "\n",
    "%timeit pl_df.write_csv('df.csv', separator=',')\n",
    "\n",
    "\n",
    "# pd_df = pl_df.to_pandas()\n",
    "\n",
    "# %timeit pd_df.to_csv('df_new.csv', sep=',')\n"
   ]
  },
  {
   "cell_type": "markdown",
   "metadata": {},
   "source": [
    "## Pandas sum"
   ]
  },
  {
   "cell_type": "code",
   "execution_count": 27,
   "metadata": {},
   "outputs": [
    {
     "name": "stdout",
     "output_type": "stream",
     "text": [
      "11.9 ms ± 833 µs per loop (mean ± std. dev. of 7 runs, 100 loops each)\n"
     ]
    }
   ],
   "source": [
    "import pandas as pd\n",
    "import numpy as np\n",
    "\n",
    "\n",
    "# create random DataFrame with 10 million rows and 2 columns\n",
    "pd_df = pd.read_csv('df.csv')\n",
    "\n",
    "\n",
    "# compute sum of each column using Pandas\n",
    "%timeit pd_df.sum()"
   ]
  },
  {
   "cell_type": "markdown",
   "metadata": {},
   "source": [
    "## Polars sum"
   ]
  },
  {
   "cell_type": "code",
   "execution_count": 28,
   "metadata": {},
   "outputs": [
    {
     "ename": "KeyboardInterrupt",
     "evalue": "",
     "output_type": "error",
     "traceback": [
      "\u001b[0;31m---------------------------------------------------------------------------\u001b[0m",
      "\u001b[0;31mKeyboardInterrupt\u001b[0m                         Traceback (most recent call last)",
      "Cell \u001b[0;32mIn[28], line 10\u001b[0m\n\u001b[1;32m      6\u001b[0m pl_df \u001b[38;5;241m=\u001b[39m pl\u001b[38;5;241m.\u001b[39mread_csv(\u001b[38;5;124m'\u001b[39m\u001b[38;5;124mdf.csv\u001b[39m\u001b[38;5;124m'\u001b[39m)\n\u001b[1;32m      9\u001b[0m \u001b[38;5;66;03m# compute sum of each column using Polar\u001b[39;00m\n\u001b[0;32m---> 10\u001b[0m \u001b[43mget_ipython\u001b[49m\u001b[43m(\u001b[49m\u001b[43m)\u001b[49m\u001b[38;5;241;43m.\u001b[39;49m\u001b[43mrun_line_magic\u001b[49m\u001b[43m(\u001b[49m\u001b[38;5;124;43m'\u001b[39;49m\u001b[38;5;124;43mtimeit\u001b[39;49m\u001b[38;5;124;43m'\u001b[39;49m\u001b[43m,\u001b[49m\u001b[43m \u001b[49m\u001b[38;5;124;43m'\u001b[39;49m\u001b[38;5;124;43mpl_df.sum()\u001b[39;49m\u001b[38;5;124;43m'\u001b[39;49m\u001b[43m)\u001b[49m\n",
      "File \u001b[0;32m~/Library/Python/3.9/lib/python/site-packages/IPython/core/interactiveshell.py:2417\u001b[0m, in \u001b[0;36mInteractiveShell.run_line_magic\u001b[0;34m(self, magic_name, line, _stack_depth)\u001b[0m\n\u001b[1;32m   2415\u001b[0m     kwargs[\u001b[38;5;124m'\u001b[39m\u001b[38;5;124mlocal_ns\u001b[39m\u001b[38;5;124m'\u001b[39m] \u001b[38;5;241m=\u001b[39m \u001b[38;5;28mself\u001b[39m\u001b[38;5;241m.\u001b[39mget_local_scope(stack_depth)\n\u001b[1;32m   2416\u001b[0m \u001b[38;5;28;01mwith\u001b[39;00m \u001b[38;5;28mself\u001b[39m\u001b[38;5;241m.\u001b[39mbuiltin_trap:\n\u001b[0;32m-> 2417\u001b[0m     result \u001b[38;5;241m=\u001b[39m \u001b[43mfn\u001b[49m\u001b[43m(\u001b[49m\u001b[38;5;241;43m*\u001b[39;49m\u001b[43margs\u001b[49m\u001b[43m,\u001b[49m\u001b[43m \u001b[49m\u001b[38;5;241;43m*\u001b[39;49m\u001b[38;5;241;43m*\u001b[39;49m\u001b[43mkwargs\u001b[49m\u001b[43m)\u001b[49m\n\u001b[1;32m   2419\u001b[0m \u001b[38;5;66;03m# The code below prevents the output from being displayed\u001b[39;00m\n\u001b[1;32m   2420\u001b[0m \u001b[38;5;66;03m# when using magics with decodator @output_can_be_silenced\u001b[39;00m\n\u001b[1;32m   2421\u001b[0m \u001b[38;5;66;03m# when the last Python token in the expression is a ';'.\u001b[39;00m\n\u001b[1;32m   2422\u001b[0m \u001b[38;5;28;01mif\u001b[39;00m \u001b[38;5;28mgetattr\u001b[39m(fn, magic\u001b[38;5;241m.\u001b[39mMAGIC_OUTPUT_CAN_BE_SILENCED, \u001b[38;5;28;01mFalse\u001b[39;00m):\n",
      "File \u001b[0;32m~/Library/Python/3.9/lib/python/site-packages/IPython/core/magics/execution.py:1174\u001b[0m, in \u001b[0;36mExecutionMagics.timeit\u001b[0;34m(self, line, cell, local_ns)\u001b[0m\n\u001b[1;32m   1171\u001b[0m         \u001b[38;5;28;01mif\u001b[39;00m time_number \u001b[38;5;241m>\u001b[39m\u001b[38;5;241m=\u001b[39m \u001b[38;5;241m0.2\u001b[39m:\n\u001b[1;32m   1172\u001b[0m             \u001b[38;5;28;01mbreak\u001b[39;00m\n\u001b[0;32m-> 1174\u001b[0m all_runs \u001b[38;5;241m=\u001b[39m \u001b[43mtimer\u001b[49m\u001b[38;5;241;43m.\u001b[39;49m\u001b[43mrepeat\u001b[49m\u001b[43m(\u001b[49m\u001b[43mrepeat\u001b[49m\u001b[43m,\u001b[49m\u001b[43m \u001b[49m\u001b[43mnumber\u001b[49m\u001b[43m)\u001b[49m\n\u001b[1;32m   1175\u001b[0m best \u001b[38;5;241m=\u001b[39m \u001b[38;5;28mmin\u001b[39m(all_runs) \u001b[38;5;241m/\u001b[39m number\n\u001b[1;32m   1176\u001b[0m worst \u001b[38;5;241m=\u001b[39m \u001b[38;5;28mmax\u001b[39m(all_runs) \u001b[38;5;241m/\u001b[39m number\n",
      "File \u001b[0;32m/Library/Developer/CommandLineTools/Library/Frameworks/Python3.framework/Versions/3.9/lib/python3.9/timeit.py:205\u001b[0m, in \u001b[0;36mTimer.repeat\u001b[0;34m(self, repeat, number)\u001b[0m\n\u001b[1;32m    203\u001b[0m r \u001b[38;5;241m=\u001b[39m []\n\u001b[1;32m    204\u001b[0m \u001b[38;5;28;01mfor\u001b[39;00m i \u001b[38;5;129;01min\u001b[39;00m \u001b[38;5;28mrange\u001b[39m(repeat):\n\u001b[0;32m--> 205\u001b[0m     t \u001b[38;5;241m=\u001b[39m \u001b[38;5;28;43mself\u001b[39;49m\u001b[38;5;241;43m.\u001b[39;49m\u001b[43mtimeit\u001b[49m\u001b[43m(\u001b[49m\u001b[43mnumber\u001b[49m\u001b[43m)\u001b[49m\n\u001b[1;32m    206\u001b[0m     r\u001b[38;5;241m.\u001b[39mappend(t)\n\u001b[1;32m    207\u001b[0m \u001b[38;5;28;01mreturn\u001b[39;00m r\n",
      "File \u001b[0;32m~/Library/Python/3.9/lib/python/site-packages/IPython/core/magics/execution.py:158\u001b[0m, in \u001b[0;36mTimer.timeit\u001b[0;34m(self, number)\u001b[0m\n\u001b[1;32m    156\u001b[0m gc\u001b[38;5;241m.\u001b[39mdisable()\n\u001b[1;32m    157\u001b[0m \u001b[38;5;28;01mtry\u001b[39;00m:\n\u001b[0;32m--> 158\u001b[0m     timing \u001b[38;5;241m=\u001b[39m \u001b[38;5;28;43mself\u001b[39;49m\u001b[38;5;241;43m.\u001b[39;49m\u001b[43minner\u001b[49m\u001b[43m(\u001b[49m\u001b[43mit\u001b[49m\u001b[43m,\u001b[49m\u001b[43m \u001b[49m\u001b[38;5;28;43mself\u001b[39;49m\u001b[38;5;241;43m.\u001b[39;49m\u001b[43mtimer\u001b[49m\u001b[43m)\u001b[49m\n\u001b[1;32m    159\u001b[0m \u001b[38;5;28;01mfinally\u001b[39;00m:\n\u001b[1;32m    160\u001b[0m     \u001b[38;5;28;01mif\u001b[39;00m gcold:\n",
      "File \u001b[0;32m<magic-timeit>:1\u001b[0m, in \u001b[0;36minner\u001b[0;34m(_it, _timer)\u001b[0m\n",
      "File \u001b[0;32m~/Library/Python/3.9/lib/python/site-packages/polars/dataframe/frame.py:8201\u001b[0m, in \u001b[0;36mDataFrame.sum\u001b[0;34m(self, axis, null_strategy)\u001b[0m\n\u001b[1;32m   8198\u001b[0m     axis \u001b[38;5;241m=\u001b[39m \u001b[38;5;241m0\u001b[39m\n\u001b[1;32m   8200\u001b[0m \u001b[38;5;28;01mif\u001b[39;00m axis \u001b[38;5;241m==\u001b[39m \u001b[38;5;241m0\u001b[39m:\n\u001b[0;32m-> 8201\u001b[0m     \u001b[38;5;28;01mreturn\u001b[39;00m \u001b[38;5;28;43mself\u001b[39;49m\u001b[38;5;241;43m.\u001b[39;49m\u001b[43mlazy\u001b[49m\u001b[43m(\u001b[49m\u001b[43m)\u001b[49m\u001b[38;5;241;43m.\u001b[39;49m\u001b[43msum\u001b[49m\u001b[43m(\u001b[49m\u001b[43m)\u001b[49m\u001b[38;5;241;43m.\u001b[39;49m\u001b[43mcollect\u001b[49m\u001b[43m(\u001b[49m\u001b[43m_eager\u001b[49m\u001b[38;5;241;43m=\u001b[39;49m\u001b[38;5;28;43;01mTrue\u001b[39;49;00m\u001b[43m)\u001b[49m  \u001b[38;5;66;03m# type: ignore[return-value]\u001b[39;00m\n\u001b[1;32m   8202\u001b[0m \u001b[38;5;28;01mif\u001b[39;00m axis \u001b[38;5;241m==\u001b[39m \u001b[38;5;241m1\u001b[39m:\n\u001b[1;32m   8203\u001b[0m     \u001b[38;5;28;01mif\u001b[39;00m null_strategy \u001b[38;5;241m==\u001b[39m \u001b[38;5;124m\"\u001b[39m\u001b[38;5;124mignore\u001b[39m\u001b[38;5;124m\"\u001b[39m:\n",
      "File \u001b[0;32m~/Library/Python/3.9/lib/python/site-packages/polars/lazyframe/frame.py:1708\u001b[0m, in \u001b[0;36mLazyFrame.collect\u001b[0;34m(self, type_coercion, predicate_pushdown, projection_pushdown, simplify_expression, slice_pushdown, comm_subplan_elim, comm_subexpr_elim, no_optimization, streaming, background, _eager)\u001b[0m\n\u001b[1;32m   1705\u001b[0m \u001b[38;5;28;01mif\u001b[39;00m background:\n\u001b[1;32m   1706\u001b[0m     \u001b[38;5;28;01mreturn\u001b[39;00m InProcessQuery(ldf\u001b[38;5;241m.\u001b[39mcollect_concurrently())\n\u001b[0;32m-> 1708\u001b[0m \u001b[38;5;28;01mreturn\u001b[39;00m wrap_df(\u001b[43mldf\u001b[49m\u001b[38;5;241;43m.\u001b[39;49m\u001b[43mcollect\u001b[49m\u001b[43m(\u001b[49m\u001b[43m)\u001b[49m)\n",
      "\u001b[0;31mKeyboardInterrupt\u001b[0m: "
     ]
    }
   ],
   "source": [
    "import polars as pl\n",
    "import numpy as np\n",
    "\n",
    "\n",
    "# create random DataFrame with 10 million rows and 2 columns\n",
    "pl_df = pl.read_csv('df.csv')\n",
    "\n",
    "\n",
    "# compute sum of each column using Polar\n",
    "%timeit pl_df.sum()"
   ]
  },
  {
   "cell_type": "code",
   "execution_count": null,
   "metadata": {},
   "outputs": [],
   "source": [
    "from math import exp as e\n",
    "def sig(z):\n",
    "  return (1/(1+e(-1*z)))"
   ]
  },
  {
   "cell_type": "markdown",
   "metadata": {},
   "source": [
    "## Pandas apply"
   ]
  },
  {
   "cell_type": "code",
   "execution_count": null,
   "metadata": {},
   "outputs": [
    {
     "name": "stdout",
     "output_type": "stream",
     "text": [
      "39.2 s ± 133 ms per loop (mean ± std. dev. of 7 runs, 1 loop each)\n"
     ]
    }
   ],
   "source": [
    "%timeit pd_df.apply(lambda a: sig(a[0]+a[1]/100), axis=1)"
   ]
  },
  {
   "cell_type": "markdown",
   "metadata": {},
   "source": [
    "## Polars apply"
   ]
  },
  {
   "cell_type": "code",
   "execution_count": null,
   "metadata": {},
   "outputs": [
    {
     "name": "stderr",
     "output_type": "stream",
     "text": [
      "<magic-timeit>:1: DeprecationWarning: `apply` is deprecated. It has been renamed to `map_rows`.\n"
     ]
    },
    {
     "name": "stdout",
     "output_type": "stream",
     "text": [
      "4.5 s ± 43.2 ms per loop (mean ± std. dev. of 7 runs, 1 loop each)\n"
     ]
    }
   ],
   "source": [
    "%timeit pl_df.apply(lambda a: sig(a[0]+a[1]/100))"
   ]
  },
  {
   "cell_type": "code",
   "execution_count": null,
   "metadata": {},
   "outputs": [
    {
     "name": "stdout",
     "output_type": "stream",
     "text": [
      "341 ms ± 4.96 ms per loop (mean ± std. dev. of 7 runs, 1 loop each)\n"
     ]
    }
   ],
   "source": [
    "# create random DataFrame with 10 million rows and 2 columns\n",
    "pl_df_new = pl.DataFrame({\n",
    "    'c': np.random.rand(10000000),\n",
    "    'd': np.random.rand(10000000)})\n",
    "\n",
    "%timeit pl_df_new.write_csv('df_add.csv', separator=',')"
   ]
  },
  {
   "cell_type": "markdown",
   "metadata": {},
   "source": [
    "## Pandas concat (horizontal)"
   ]
  },
  {
   "cell_type": "code",
   "execution_count": null,
   "metadata": {},
   "outputs": [
    {
     "name": "stdout",
     "output_type": "stream",
     "text": [
      "53.7 ms ± 8.26 ms per loop (mean ± std. dev. of 7 runs, 10 loops each)\n"
     ]
    }
   ],
   "source": [
    "pd_df = pd.read_csv('df.csv')\n",
    "\n",
    "pd_df_add = pd.read_csv('df_add.csv')\n",
    "\n",
    "%timeit pd.concat([pd_df, pd_df_add], axis=1)"
   ]
  },
  {
   "cell_type": "code",
   "execution_count": null,
   "metadata": {},
   "outputs": [
    {
     "name": "stdout",
     "output_type": "stream",
     "text": [
      "The size of the file is 0.35892702359706163 giga bytes\n"
     ]
    }
   ],
   "source": [
    "import os\n",
    "file_path = './df_add.csv'\n",
    "# file = pd_df.to_csv(file_path)\n",
    "file_size = os.path.getsize(file_path) / 1024**3\n",
    "\n",
    "print(f\"The size of the file is {file_size} giga bytes\")"
   ]
  },
  {
   "cell_type": "markdown",
   "metadata": {},
   "source": [
    "## Pandas concat (vertical)"
   ]
  },
  {
   "cell_type": "code",
   "execution_count": null,
   "metadata": {},
   "outputs": [
    {
     "name": "stdout",
     "output_type": "stream",
     "text": [
      "213 ms ± 12.3 ms per loop (mean ± std. dev. of 7 runs, 1 loop each)\n"
     ]
    }
   ],
   "source": [
    "%timeit pd.concat([pd_df, pd_df_add], axis=0)"
   ]
  },
  {
   "cell_type": "markdown",
   "metadata": {},
   "source": [
    "## Polars concat (vertical)"
   ]
  },
  {
   "cell_type": "code",
   "execution_count": null,
   "metadata": {},
   "outputs": [
    {
     "name": "stdout",
     "output_type": "stream",
     "text": [
      "58.2 ms ± 2.63 ms per loop (mean ± std. dev. of 7 runs, 10 loops each)\n"
     ]
    }
   ],
   "source": [
    "pl_df = pl.read_csv('df.csv')\n",
    "\n",
    "# create random DataFrame with 10 million rows and 2 columns\n",
    "pl_df_add = pl.read_csv('df_add.csv')\n",
    "pl_df_add_new = pl_df_add.clone().rename({\n",
    "    'c': 'a', 'd': 'b'\n",
    "    })\n",
    "\n",
    "%timeit pl.concat([pl_df, pl_df_add_new])"
   ]
  },
  {
   "cell_type": "markdown",
   "metadata": {},
   "source": [
    "## Polars concat (horizontal)"
   ]
  },
  {
   "cell_type": "code",
   "execution_count": 25,
   "metadata": {},
   "outputs": [
    {
     "name": "stdout",
     "output_type": "stream",
     "text": [
      "['c', 'd']\n",
      "53.8 ms ± 3.24 ms per loop (mean ± std. dev. of 7 runs, 10 loops each)\n"
     ]
    }
   ],
   "source": [
    "print(pl_df_add.columns)\n",
    "pl_df_add_new = pl_df_add.clone().rename({\n",
    "    'c': 'c_copy', 'd': 'd_copy'\n",
    "    })\n",
    "\n",
    "%timeit pl.concat([pl_df, pl_df_add_new], how='horizontal')\n"
   ]
  }
 ],
 "metadata": {
  "kernelspec": {
   "display_name": "Python 3",
   "language": "python",
   "name": "python3"
  },
  "language_info": {
   "codemirror_mode": {
    "name": "ipython",
    "version": 3
   },
   "file_extension": ".py",
   "mimetype": "text/x-python",
   "name": "python",
   "nbconvert_exporter": "python",
   "pygments_lexer": "ipython3",
   "version": "3.9.6"
  }
 },
 "nbformat": 4,
 "nbformat_minor": 2
}
