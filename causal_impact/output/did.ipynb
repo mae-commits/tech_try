{
 "cells": [
  {
   "cell_type": "code",
   "execution_count": 12,
   "metadata": {
    "ExecuteTime": {
     "end_time": "2021-09-11T09:26:53.888872Z",
     "start_time": "2021-09-11T09:26:52.093166Z"
    }
   },
   "outputs": [
    {
     "name": "stderr",
     "output_type": "stream",
     "text": [
      "/Users/naokimaekawa/Library/Python/3.9/lib/python/site-packages/_distutils_hack/__init__.py:11: UserWarning:\n",
      "\n",
      "Distutils was imported before Setuptools, but importing Setuptools also replaces the `distutils` module in `sys.modules`. This may lead to undesirable behaviors or errors. To avoid these issues, avoid using distutils directly, ensure that setuptools is installed in the traditional way (e.g. not an editable install), and/or make sure that setuptools is always imported before distutils.\n",
      "\n",
      "/Users/naokimaekawa/Library/Python/3.9/lib/python/site-packages/_distutils_hack/__init__.py:26: UserWarning:\n",
      "\n",
      "Setuptools is replacing distutils.\n",
      "\n",
      "WARNING (pytensor.tensor.blas): Using NumPy C-API based implementation for BLAS functions.\n"
     ]
    }
   ],
   "source": [
    "import numpy as np\n",
    "import pandas as pd\n",
    "import plotly.express as px\n",
    "import plotly.graph_objects as go\n",
    "# import statsmodels.api as sm\n",
    "from causalimpact import CausalImpact\n",
    "import warnings\n",
    "warnings.filterwarnings('ignore')"
   ]
  },
  {
   "attachments": {},
   "cell_type": "markdown",
   "metadata": {},
   "source": [
    "## (2) John Snowデータの読み込み\n",
    "Data from Table.12 in Snow(1855)  \n",
    "http://www.ph.ucla.edu/epi/snow/table12a.html  "
   ]
  },
  {
   "cell_type": "code",
   "execution_count": null,
   "metadata": {
    "ExecuteTime": {
     "end_time": "2021-09-11T09:26:53.902822Z",
     "start_time": "2021-09-11T09:26:53.890223Z"
    },
    "scrolled": true
   },
   "outputs": [],
   "source": [
    "## 1849年におけるエリア毎のコレラによる死者数\n",
    "### Southwark and Vauxhall Company\n",
    "sv1849 = [283,157,192,249,259,226,352,97,111,8,235,92]\n",
    "### Lambeth Company & Southwark and Vauxhall Company\n",
    "lsv1849 = [256,267,312,257,318,446,143,193,243,215,544,187,153,81,113,176]\n",
    "\n",
    "## 1849年におけるエリア毎のコレラによる死者数\n",
    "### Southwark and Vauxhall Company\n",
    "sv1854 = [371, 161, 148, 362, 244, 237, 282, 59, 171, 9, 240, 174]\n",
    "### Lambeth Company & Southwark and Vauxhall Company\n",
    "lsv1854 = [113,174,270,93,210,388,92,58,117,49,193,303,142,48,165,132]\n",
    "\n",
    "## コレラの死者数を会社ごとにまとめる\n",
    "sv_death = sv1849 + sv1854\n",
    "lsv_death = lsv1849 + lsv1854\n",
    "\n",
    "## どのデータがどのエリアのものか\n",
    "sv_area = [f'sv_{i}' for i in range(1, len(sv1849)+1)] + [f'sv_{i}' for i in range(1, len(sv1854)+1)]\n",
    "lsv_area = [f'lsv_{i}' for i in range(1, len(lsv1849)+1)] + [f'lsv_{i}' for i in range(1, len(lsv1854)+1)]\n",
    "\n",
    "## どのデータがどの年のものか\n",
    "sv_year = [1849 for i in range(0, len(sv1849))] + [1854 for i in range(0, len(sv1854))]\n",
    "lsv_year = [1849 for i in range(0, len(lsv1849))] + [1854 for i in range(0, len(lsv1854))]\n",
    "\n",
    "## Southwark & Vauxhallのデータフレームを作成\n",
    "sv = pd.DataFrame({\n",
    "    'area': sv_area,\n",
    "    'year': sv_year,\n",
    "    'death': sv_death,\n",
    "    'LSV': 0,\n",
    "    'company': 'Southwark and Vauxhall'\n",
    "})\n",
    "\n",
    "## Lambeth & Southwark and Vauxhallのデータフレームを作成\n",
    "lsv = pd.DataFrame({\n",
    "    'area': lsv_area,\n",
    "    'year': lsv_year,\n",
    "    'death': lsv_death,\n",
    "    'LSV': 1,\n",
    "    'company': 'Lambeth & Southwark and Vauxhall'\n",
    "})\n",
    "\n",
    "## 地域・年別のデータセットの作成\n",
    "JS_df = pd.concat([sv, lsv], ignore_index=True)\n",
    "\n",
    "## 会社別のデータセットを作成\n",
    "JS_sum = JS_df.groupby(['company', 'LSV', 'year'], as_index=False).death.sum()"
   ]
  },
  {
   "attachments": {},
   "cell_type": "markdown",
   "metadata": {},
   "source": [
    "## (3) 集計と可視化による分析\n"
   ]
  },
  {
   "cell_type": "code",
   "execution_count": null,
   "metadata": {
    "ExecuteTime": {
     "end_time": "2021-09-11T09:26:53.925074Z",
     "start_time": "2021-09-11T09:26:53.903612Z"
    }
   },
   "outputs": [
    {
     "data": {
      "text/html": [
       "<div>\n",
       "<style scoped>\n",
       "    .dataframe tbody tr th:only-of-type {\n",
       "        vertical-align: middle;\n",
       "    }\n",
       "\n",
       "    .dataframe tbody tr th {\n",
       "        vertical-align: top;\n",
       "    }\n",
       "\n",
       "    .dataframe thead th {\n",
       "        text-align: right;\n",
       "    }\n",
       "</style>\n",
       "<table border=\"1\" class=\"dataframe\">\n",
       "  <thead>\n",
       "    <tr style=\"text-align: right;\">\n",
       "      <th>year</th>\n",
       "      <th>company</th>\n",
       "      <th>LSV</th>\n",
       "      <th>year_1849</th>\n",
       "      <th>year_1854</th>\n",
       "      <th>gap_rate</th>\n",
       "    </tr>\n",
       "  </thead>\n",
       "  <tbody>\n",
       "    <tr>\n",
       "      <th>0</th>\n",
       "      <td>Lambeth &amp; Southwark and Vauxhall</td>\n",
       "      <td>1</td>\n",
       "      <td>3904</td>\n",
       "      <td>2547</td>\n",
       "      <td>-0.347592</td>\n",
       "    </tr>\n",
       "    <tr>\n",
       "      <th>1</th>\n",
       "      <td>Southwark and Vauxhall</td>\n",
       "      <td>0</td>\n",
       "      <td>2261</td>\n",
       "      <td>2458</td>\n",
       "      <td>0.087130</td>\n",
       "    </tr>\n",
       "  </tbody>\n",
       "</table>\n",
       "</div>"
      ],
      "text/plain": [
       "year                           company  LSV  year_1849  year_1854  gap_rate\n",
       "0     Lambeth & Southwark and Vauxhall    1       3904       2547 -0.347592\n",
       "1               Southwark and Vauxhall    0       2261       2458  0.087130"
      ]
     },
     "execution_count": 10,
     "metadata": {},
     "output_type": "execute_result"
    }
   ],
   "source": [
    "## 集計による推定\n",
    "JS_grp_summary = JS_sum.pivot_table(\n",
    "    values='death', index=['company', 'LSV'], columns=['year'], aggfunc='sum').add_prefix('year_').reset_index()\n",
    "JS_grp_summary['gap'] = JS_grp_summary.year_1854 - JS_grp_summary.year_1849\n",
    "JS_grp_summary['gap_rate'] = JS_grp_summary.year_1854 / JS_grp_summary.year_1849 - 1\n",
    "JS_grp_summary"
   ]
  },
  {
   "cell_type": "code",
   "execution_count": null,
   "metadata": {
    "ExecuteTime": {
     "end_time": "2021-09-11T09:26:53.940873Z",
     "start_time": "2021-09-11T09:26:53.926351Z"
    }
   },
   "outputs": [
    {
     "data": {
      "text/html": [
       "<div>\n",
       "<style scoped>\n",
       "    .dataframe tbody tr th:only-of-type {\n",
       "        vertical-align: middle;\n",
       "    }\n",
       "\n",
       "    .dataframe tbody tr th {\n",
       "        vertical-align: top;\n",
       "    }\n",
       "\n",
       "    .dataframe thead th {\n",
       "        text-align: right;\n",
       "    }\n",
       "</style>\n",
       "<table border=\"1\" class=\"dataframe\">\n",
       "  <thead>\n",
       "    <tr style=\"text-align: right;\">\n",
       "      <th>year</th>\n",
       "      <th>company</th>\n",
       "      <th>LSV</th>\n",
       "      <th>year_1849</th>\n",
       "      <th>year_1854</th>\n",
       "      <th>gap</th>\n",
       "      <th>gap_rate</th>\n",
       "    </tr>\n",
       "  </thead>\n",
       "  <tbody>\n",
       "    <tr>\n",
       "      <th>0</th>\n",
       "      <td>Lambeth &amp; Southwark and Vauxhall</td>\n",
       "      <td>1</td>\n",
       "      <td>8.269757</td>\n",
       "      <td>7.842671</td>\n",
       "      <td>-0.427085</td>\n",
       "      <td>-0.051644</td>\n",
       "    </tr>\n",
       "    <tr>\n",
       "      <th>1</th>\n",
       "      <td>Southwark and Vauxhall</td>\n",
       "      <td>0</td>\n",
       "      <td>7.723562</td>\n",
       "      <td>7.807103</td>\n",
       "      <td>0.083541</td>\n",
       "      <td>0.010816</td>\n",
       "    </tr>\n",
       "  </tbody>\n",
       "</table>\n",
       "</div>"
      ],
      "text/plain": [
       "year                           company  LSV  year_1849  year_1854       gap   \n",
       "0     Lambeth & Southwark and Vauxhall    1   8.269757   7.842671 -0.427085  \\\n",
       "1               Southwark and Vauxhall    0   7.723562   7.807103  0.083541   \n",
       "\n",
       "year  gap_rate  \n",
       "0    -0.051644  \n",
       "1     0.010816  "
      ]
     },
     "execution_count": 4,
     "metadata": {},
     "output_type": "execute_result"
    }
   ],
   "source": [
    "## 集計による推定(log)\n",
    "JS_grp_summary_ln = JS_sum.pivot_table(\n",
    "    values='death', index=['company', 'LSV'], columns=['year'], aggfunc='sum').add_prefix('year_').reset_index()\n",
    "JS_grp_summary_ln.year_1849 = np.log(JS_grp_summary_ln.year_1849)\n",
    "JS_grp_summary_ln.year_1854 = np.log(JS_grp_summary_ln.year_1854)\n",
    "JS_grp_summary_ln['gap'] = JS_grp_summary_ln.year_1854 - JS_grp_summary_ln.year_1849\n",
    "JS_grp_summary_ln['gap_rate'] = JS_grp_summary_ln.year_1854 / JS_grp_summary_ln.year_1849 - 1\n",
    "JS_grp_summary_ln"
   ]
  },
  {
   "attachments": {},
   "cell_type": "markdown",
   "metadata": {},
   "source": [
    "## plotly expressによる可視化"
   ]
  },
  {
   "cell_type": "code",
   "execution_count": null,
   "metadata": {
    "ExecuteTime": {
     "end_time": "2021-09-11T09:26:54.221287Z",
     "start_time": "2021-09-11T09:26:53.941677Z"
    }
   },
   "outputs": [
    {
     "data": {
      "application/vnd.plotly.v1+json": {
       "config": {
        "plotlyServerURL": "https://plot.ly"
       },
       "data": [
        {
         "hovertemplate": "company=Lambeth & Southwark and Vauxhall<br>year=%{x}<br>death=%{y}<extra></extra>",
         "legendgroup": "Lambeth & Southwark and Vauxhall",
         "marker": {
          "color": "#636efa",
          "symbol": "circle"
         },
         "mode": "markers",
         "name": "Lambeth & Southwark and Vauxhall",
         "orientation": "v",
         "showlegend": true,
         "type": "scatter",
         "x": [
          1849,
          1854
         ],
         "xaxis": "x",
         "y": [
          3904,
          2547
         ],
         "yaxis": "y"
        },
        {
         "hovertemplate": "<b>OLS trendline</b><br>death = -271.4 * year + 505723<br>R<sup>2</sup>=1.000000<br><br>company=Lambeth & Southwark and Vauxhall<br>year=%{x}<br>death=%{y} <b>(trend)</b><extra></extra>",
         "legendgroup": "Lambeth & Southwark and Vauxhall",
         "marker": {
          "color": "#636efa",
          "symbol": "circle"
         },
         "mode": "lines",
         "name": "Lambeth & Southwark and Vauxhall",
         "showlegend": false,
         "type": "scatter",
         "x": [
          1849,
          1854
         ],
         "xaxis": "x",
         "y": [
          3903.999999999962,
          2546.9999999998727
         ],
         "yaxis": "y"
        },
        {
         "hovertemplate": "company=Southwark and Vauxhall<br>year=%{x}<br>death=%{y}<extra></extra>",
         "legendgroup": "Southwark and Vauxhall",
         "marker": {
          "color": "#EF553B",
          "symbol": "diamond"
         },
         "mode": "markers",
         "name": "Southwark and Vauxhall",
         "orientation": "v",
         "showlegend": true,
         "type": "scatter",
         "x": [
          1849,
          1854
         ],
         "xaxis": "x",
         "y": [
          2261,
          2458
         ],
         "yaxis": "y"
        },
        {
         "hovertemplate": "<b>OLS trendline</b><br>death = 39.4 * year + -70589.6<br>R<sup>2</sup>=1.000000<br><br>company=Southwark and Vauxhall<br>year=%{x}<br>death=%{y} <b>(trend)</b><extra></extra>",
         "legendgroup": "Southwark and Vauxhall",
         "marker": {
          "color": "#EF553B",
          "symbol": "diamond"
         },
         "mode": "lines",
         "name": "Southwark and Vauxhall",
         "showlegend": false,
         "type": "scatter",
         "x": [
          1849,
          1854
         ],
         "xaxis": "x",
         "y": [
          2260.9999999999345,
          2457.9999999999472
         ],
         "yaxis": "y"
        },
        {
         "line": {
          "color": "gray",
          "dash": "dot"
         },
         "mode": "lines",
         "name": "",
         "type": "scatter",
         "x": [
          1849,
          1854
         ],
         "y": [
          3904,
          4101
         ]
        },
        {
         "line": {
          "color": "gray",
          "dash": "dot"
         },
         "mode": "lines",
         "name": "",
         "type": "scatter",
         "x": [
          1849,
          1854
         ],
         "y": [
          3904,
          3904
         ]
        },
        {
         "line": {
          "color": "gray",
          "dash": "dot"
         },
         "mode": "lines",
         "name": "",
         "type": "scatter",
         "x": [
          1849,
          1854
         ],
         "y": [
          2261,
          2261
         ]
        },
        {
         "line": {
          "color": "gray",
          "width": 1
         },
         "mode": "lines+markers",
         "name": "",
         "type": "scatter",
         "x": [
          1854.2,
          1854.2
         ],
         "y": [
          2261,
          2458
         ]
        },
        {
         "mode": "text",
         "name": "",
         "text": "(1)",
         "textposition": "middle right",
         "type": "scatter",
         "x": [
          1854.2
         ],
         "y": [
          2350
         ]
        },
        {
         "line": {
          "color": "gray",
          "width": 1
         },
         "mode": "lines+markers",
         "name": "",
         "type": "scatter",
         "x": [
          1854.2,
          1854.2
         ],
         "y": [
          3904,
          4101
         ]
        },
        {
         "mode": "text",
         "name": "",
         "text": "(2)",
         "textposition": "middle right",
         "type": "scatter",
         "x": [
          1854.2
         ],
         "y": [
          4003
         ]
        },
        {
         "line": {
          "color": "gray",
          "width": 1
         },
         "mode": "lines+markers",
         "name": "",
         "type": "scatter",
         "x": [
          1854.2,
          1854.2
         ],
         "y": [
          2547,
          3904
         ]
        },
        {
         "mode": "text",
         "name": "",
         "text": "(3)",
         "textposition": "middle right",
         "type": "scatter",
         "x": [
          1854.2
         ],
         "y": [
          3200
         ]
        }
       ],
       "layout": {
        "legend": {
         "title": {
          "text": "company"
         },
         "tracegroupgap": 0
        },
        "template": {
         "data": {
          "bar": [
           {
            "error_x": {
             "color": "#2a3f5f"
            },
            "error_y": {
             "color": "#2a3f5f"
            },
            "marker": {
             "line": {
              "color": "#E5ECF6",
              "width": 0.5
             },
             "pattern": {
              "fillmode": "overlay",
              "size": 10,
              "solidity": 0.2
             }
            },
            "type": "bar"
           }
          ],
          "barpolar": [
           {
            "marker": {
             "line": {
              "color": "#E5ECF6",
              "width": 0.5
             },
             "pattern": {
              "fillmode": "overlay",
              "size": 10,
              "solidity": 0.2
             }
            },
            "type": "barpolar"
           }
          ],
          "carpet": [
           {
            "aaxis": {
             "endlinecolor": "#2a3f5f",
             "gridcolor": "white",
             "linecolor": "white",
             "minorgridcolor": "white",
             "startlinecolor": "#2a3f5f"
            },
            "baxis": {
             "endlinecolor": "#2a3f5f",
             "gridcolor": "white",
             "linecolor": "white",
             "minorgridcolor": "white",
             "startlinecolor": "#2a3f5f"
            },
            "type": "carpet"
           }
          ],
          "choropleth": [
           {
            "colorbar": {
             "outlinewidth": 0,
             "ticks": ""
            },
            "type": "choropleth"
           }
          ],
          "contour": [
           {
            "colorbar": {
             "outlinewidth": 0,
             "ticks": ""
            },
            "colorscale": [
             [
              0,
              "#0d0887"
             ],
             [
              0.1111111111111111,
              "#46039f"
             ],
             [
              0.2222222222222222,
              "#7201a8"
             ],
             [
              0.3333333333333333,
              "#9c179e"
             ],
             [
              0.4444444444444444,
              "#bd3786"
             ],
             [
              0.5555555555555556,
              "#d8576b"
             ],
             [
              0.6666666666666666,
              "#ed7953"
             ],
             [
              0.7777777777777778,
              "#fb9f3a"
             ],
             [
              0.8888888888888888,
              "#fdca26"
             ],
             [
              1,
              "#f0f921"
             ]
            ],
            "type": "contour"
           }
          ],
          "contourcarpet": [
           {
            "colorbar": {
             "outlinewidth": 0,
             "ticks": ""
            },
            "type": "contourcarpet"
           }
          ],
          "heatmap": [
           {
            "colorbar": {
             "outlinewidth": 0,
             "ticks": ""
            },
            "colorscale": [
             [
              0,
              "#0d0887"
             ],
             [
              0.1111111111111111,
              "#46039f"
             ],
             [
              0.2222222222222222,
              "#7201a8"
             ],
             [
              0.3333333333333333,
              "#9c179e"
             ],
             [
              0.4444444444444444,
              "#bd3786"
             ],
             [
              0.5555555555555556,
              "#d8576b"
             ],
             [
              0.6666666666666666,
              "#ed7953"
             ],
             [
              0.7777777777777778,
              "#fb9f3a"
             ],
             [
              0.8888888888888888,
              "#fdca26"
             ],
             [
              1,
              "#f0f921"
             ]
            ],
            "type": "heatmap"
           }
          ],
          "heatmapgl": [
           {
            "colorbar": {
             "outlinewidth": 0,
             "ticks": ""
            },
            "colorscale": [
             [
              0,
              "#0d0887"
             ],
             [
              0.1111111111111111,
              "#46039f"
             ],
             [
              0.2222222222222222,
              "#7201a8"
             ],
             [
              0.3333333333333333,
              "#9c179e"
             ],
             [
              0.4444444444444444,
              "#bd3786"
             ],
             [
              0.5555555555555556,
              "#d8576b"
             ],
             [
              0.6666666666666666,
              "#ed7953"
             ],
             [
              0.7777777777777778,
              "#fb9f3a"
             ],
             [
              0.8888888888888888,
              "#fdca26"
             ],
             [
              1,
              "#f0f921"
             ]
            ],
            "type": "heatmapgl"
           }
          ],
          "histogram": [
           {
            "marker": {
             "pattern": {
              "fillmode": "overlay",
              "size": 10,
              "solidity": 0.2
             }
            },
            "type": "histogram"
           }
          ],
          "histogram2d": [
           {
            "colorbar": {
             "outlinewidth": 0,
             "ticks": ""
            },
            "colorscale": [
             [
              0,
              "#0d0887"
             ],
             [
              0.1111111111111111,
              "#46039f"
             ],
             [
              0.2222222222222222,
              "#7201a8"
             ],
             [
              0.3333333333333333,
              "#9c179e"
             ],
             [
              0.4444444444444444,
              "#bd3786"
             ],
             [
              0.5555555555555556,
              "#d8576b"
             ],
             [
              0.6666666666666666,
              "#ed7953"
             ],
             [
              0.7777777777777778,
              "#fb9f3a"
             ],
             [
              0.8888888888888888,
              "#fdca26"
             ],
             [
              1,
              "#f0f921"
             ]
            ],
            "type": "histogram2d"
           }
          ],
          "histogram2dcontour": [
           {
            "colorbar": {
             "outlinewidth": 0,
             "ticks": ""
            },
            "colorscale": [
             [
              0,
              "#0d0887"
             ],
             [
              0.1111111111111111,
              "#46039f"
             ],
             [
              0.2222222222222222,
              "#7201a8"
             ],
             [
              0.3333333333333333,
              "#9c179e"
             ],
             [
              0.4444444444444444,
              "#bd3786"
             ],
             [
              0.5555555555555556,
              "#d8576b"
             ],
             [
              0.6666666666666666,
              "#ed7953"
             ],
             [
              0.7777777777777778,
              "#fb9f3a"
             ],
             [
              0.8888888888888888,
              "#fdca26"
             ],
             [
              1,
              "#f0f921"
             ]
            ],
            "type": "histogram2dcontour"
           }
          ],
          "mesh3d": [
           {
            "colorbar": {
             "outlinewidth": 0,
             "ticks": ""
            },
            "type": "mesh3d"
           }
          ],
          "parcoords": [
           {
            "line": {
             "colorbar": {
              "outlinewidth": 0,
              "ticks": ""
             }
            },
            "type": "parcoords"
           }
          ],
          "pie": [
           {
            "automargin": true,
            "type": "pie"
           }
          ],
          "scatter": [
           {
            "fillpattern": {
             "fillmode": "overlay",
             "size": 10,
             "solidity": 0.2
            },
            "type": "scatter"
           }
          ],
          "scatter3d": [
           {
            "line": {
             "colorbar": {
              "outlinewidth": 0,
              "ticks": ""
             }
            },
            "marker": {
             "colorbar": {
              "outlinewidth": 0,
              "ticks": ""
             }
            },
            "type": "scatter3d"
           }
          ],
          "scattercarpet": [
           {
            "marker": {
             "colorbar": {
              "outlinewidth": 0,
              "ticks": ""
             }
            },
            "type": "scattercarpet"
           }
          ],
          "scattergeo": [
           {
            "marker": {
             "colorbar": {
              "outlinewidth": 0,
              "ticks": ""
             }
            },
            "type": "scattergeo"
           }
          ],
          "scattergl": [
           {
            "marker": {
             "colorbar": {
              "outlinewidth": 0,
              "ticks": ""
             }
            },
            "type": "scattergl"
           }
          ],
          "scattermapbox": [
           {
            "marker": {
             "colorbar": {
              "outlinewidth": 0,
              "ticks": ""
             }
            },
            "type": "scattermapbox"
           }
          ],
          "scatterpolar": [
           {
            "marker": {
             "colorbar": {
              "outlinewidth": 0,
              "ticks": ""
             }
            },
            "type": "scatterpolar"
           }
          ],
          "scatterpolargl": [
           {
            "marker": {
             "colorbar": {
              "outlinewidth": 0,
              "ticks": ""
             }
            },
            "type": "scatterpolargl"
           }
          ],
          "scatterternary": [
           {
            "marker": {
             "colorbar": {
              "outlinewidth": 0,
              "ticks": ""
             }
            },
            "type": "scatterternary"
           }
          ],
          "surface": [
           {
            "colorbar": {
             "outlinewidth": 0,
             "ticks": ""
            },
            "colorscale": [
             [
              0,
              "#0d0887"
             ],
             [
              0.1111111111111111,
              "#46039f"
             ],
             [
              0.2222222222222222,
              "#7201a8"
             ],
             [
              0.3333333333333333,
              "#9c179e"
             ],
             [
              0.4444444444444444,
              "#bd3786"
             ],
             [
              0.5555555555555556,
              "#d8576b"
             ],
             [
              0.6666666666666666,
              "#ed7953"
             ],
             [
              0.7777777777777778,
              "#fb9f3a"
             ],
             [
              0.8888888888888888,
              "#fdca26"
             ],
             [
              1,
              "#f0f921"
             ]
            ],
            "type": "surface"
           }
          ],
          "table": [
           {
            "cells": {
             "fill": {
              "color": "#EBF0F8"
             },
             "line": {
              "color": "white"
             }
            },
            "header": {
             "fill": {
              "color": "#C8D4E3"
             },
             "line": {
              "color": "white"
             }
            },
            "type": "table"
           }
          ]
         },
         "layout": {
          "annotationdefaults": {
           "arrowcolor": "#2a3f5f",
           "arrowhead": 0,
           "arrowwidth": 1
          },
          "autotypenumbers": "strict",
          "coloraxis": {
           "colorbar": {
            "outlinewidth": 0,
            "ticks": ""
           }
          },
          "colorscale": {
           "diverging": [
            [
             0,
             "#8e0152"
            ],
            [
             0.1,
             "#c51b7d"
            ],
            [
             0.2,
             "#de77ae"
            ],
            [
             0.3,
             "#f1b6da"
            ],
            [
             0.4,
             "#fde0ef"
            ],
            [
             0.5,
             "#f7f7f7"
            ],
            [
             0.6,
             "#e6f5d0"
            ],
            [
             0.7,
             "#b8e186"
            ],
            [
             0.8,
             "#7fbc41"
            ],
            [
             0.9,
             "#4d9221"
            ],
            [
             1,
             "#276419"
            ]
           ],
           "sequential": [
            [
             0,
             "#0d0887"
            ],
            [
             0.1111111111111111,
             "#46039f"
            ],
            [
             0.2222222222222222,
             "#7201a8"
            ],
            [
             0.3333333333333333,
             "#9c179e"
            ],
            [
             0.4444444444444444,
             "#bd3786"
            ],
            [
             0.5555555555555556,
             "#d8576b"
            ],
            [
             0.6666666666666666,
             "#ed7953"
            ],
            [
             0.7777777777777778,
             "#fb9f3a"
            ],
            [
             0.8888888888888888,
             "#fdca26"
            ],
            [
             1,
             "#f0f921"
            ]
           ],
           "sequentialminus": [
            [
             0,
             "#0d0887"
            ],
            [
             0.1111111111111111,
             "#46039f"
            ],
            [
             0.2222222222222222,
             "#7201a8"
            ],
            [
             0.3333333333333333,
             "#9c179e"
            ],
            [
             0.4444444444444444,
             "#bd3786"
            ],
            [
             0.5555555555555556,
             "#d8576b"
            ],
            [
             0.6666666666666666,
             "#ed7953"
            ],
            [
             0.7777777777777778,
             "#fb9f3a"
            ],
            [
             0.8888888888888888,
             "#fdca26"
            ],
            [
             1,
             "#f0f921"
            ]
           ]
          },
          "colorway": [
           "#636efa",
           "#EF553B",
           "#00cc96",
           "#ab63fa",
           "#FFA15A",
           "#19d3f3",
           "#FF6692",
           "#B6E880",
           "#FF97FF",
           "#FECB52"
          ],
          "font": {
           "color": "#2a3f5f"
          },
          "geo": {
           "bgcolor": "white",
           "lakecolor": "white",
           "landcolor": "#E5ECF6",
           "showlakes": true,
           "showland": true,
           "subunitcolor": "white"
          },
          "hoverlabel": {
           "align": "left"
          },
          "hovermode": "closest",
          "mapbox": {
           "style": "light"
          },
          "paper_bgcolor": "white",
          "plot_bgcolor": "#E5ECF6",
          "polar": {
           "angularaxis": {
            "gridcolor": "white",
            "linecolor": "white",
            "ticks": ""
           },
           "bgcolor": "#E5ECF6",
           "radialaxis": {
            "gridcolor": "white",
            "linecolor": "white",
            "ticks": ""
           }
          },
          "scene": {
           "xaxis": {
            "backgroundcolor": "#E5ECF6",
            "gridcolor": "white",
            "gridwidth": 2,
            "linecolor": "white",
            "showbackground": true,
            "ticks": "",
            "zerolinecolor": "white"
           },
           "yaxis": {
            "backgroundcolor": "#E5ECF6",
            "gridcolor": "white",
            "gridwidth": 2,
            "linecolor": "white",
            "showbackground": true,
            "ticks": "",
            "zerolinecolor": "white"
           },
           "zaxis": {
            "backgroundcolor": "#E5ECF6",
            "gridcolor": "white",
            "gridwidth": 2,
            "linecolor": "white",
            "showbackground": true,
            "ticks": "",
            "zerolinecolor": "white"
           }
          },
          "shapedefaults": {
           "line": {
            "color": "#2a3f5f"
           }
          },
          "ternary": {
           "aaxis": {
            "gridcolor": "white",
            "linecolor": "white",
            "ticks": ""
           },
           "baxis": {
            "gridcolor": "white",
            "linecolor": "white",
            "ticks": ""
           },
           "bgcolor": "#E5ECF6",
           "caxis": {
            "gridcolor": "white",
            "linecolor": "white",
            "ticks": ""
           }
          },
          "title": {
           "x": 0.05
          },
          "xaxis": {
           "automargin": true,
           "gridcolor": "white",
           "linecolor": "white",
           "ticks": "",
           "title": {
            "standoff": 15
           },
           "zerolinecolor": "white",
           "zerolinewidth": 2
          },
          "yaxis": {
           "automargin": true,
           "gridcolor": "white",
           "linecolor": "white",
           "ticks": "",
           "title": {
            "standoff": 15
           },
           "zerolinecolor": "white",
           "zerolinewidth": 2
          }
         }
        },
        "title": {
         "text": "4.2 コレラによる死者数"
        },
        "xaxis": {
         "anchor": "y",
         "domain": [
          0,
          1
         ],
         "title": {
          "text": "year"
         }
        },
        "yaxis": {
         "anchor": "x",
         "domain": [
          0,
          1
         ],
         "title": {
          "text": "death"
         }
        }
       }
      }
     },
     "metadata": {},
     "output_type": "display_data"
    }
   ],
   "source": [
    "fig = px.scatter(JS_sum, x='year', y='death', color='company', trendline=\"ols\", symbol='company', title='4.2 コレラによる死者数')\n",
    "# 補助線を追加していく\n",
    "fig.add_trace(go.Scatter(\n",
    "    x=[1849, 1854],\n",
    "    y=[3904, 3904 + 197],\n",
    "    mode=\"lines\",\n",
    "    line=dict(color='gray', dash='dot'),\n",
    "    name=''\n",
    "))\n",
    "fig.add_trace(go.Scatter(\n",
    "    x=[1849, 1854],\n",
    "    y=[3904, 3904],\n",
    "    mode=\"lines\",\n",
    "    line=dict(color='gray', dash='dot'),\n",
    "    name=''\n",
    "))\n",
    "fig.add_trace(go.Scatter(\n",
    "    x=[1849, 1854],\n",
    "    y=[2261, 2261],\n",
    "    mode=\"lines\",\n",
    "    line=dict(color='gray', dash='dot'),\n",
    "    name=''\n",
    "))\n",
    "fig.add_trace(go.Scatter(\n",
    "    x=[1854.2, 1854.2],\n",
    "    y=[2261, 2458],\n",
    "    mode=\"lines+markers\",\n",
    "    line=dict(color='gray', width=1),\n",
    "    name='',\n",
    "))\n",
    "fig.add_trace(go.Scatter(\n",
    "    x=[1854.2],\n",
    "    y=[2350],\n",
    "    mode=\"text\",\n",
    "    name='',\n",
    "    text='(1)',\n",
    "    textposition='middle right'\n",
    "))\n",
    "fig.add_trace(go.Scatter(\n",
    "    x=[1854.2, 1854.2],\n",
    "    y=[3904, 3904+197],\n",
    "    mode=\"lines+markers\",\n",
    "    line=dict(color='gray', width=1),\n",
    "    name='',\n",
    "))\n",
    "fig.add_trace(go.Scatter(\n",
    "    x=[1854.2],\n",
    "    y=[3904+99],\n",
    "    mode=\"text\",\n",
    "    name='',\n",
    "    text='(2)',\n",
    "    textposition='middle right'\n",
    "))\n",
    "fig.add_trace(go.Scatter(\n",
    "    x=[1854.2, 1854.2],\n",
    "    y=[2547, 3904],\n",
    "    mode=\"lines+markers\",\n",
    "    line=dict(color='gray', width=1),\n",
    "    name=''\n",
    "))\n",
    "fig.add_trace(go.Scatter(\n",
    "    x=[1854.2],\n",
    "    y=[3200],\n",
    "    mode=\"text\",\n",
    "    name='',\n",
    "    text='(3)',\n",
    "    textposition='middle right'\n",
    "))"
   ]
  },
  {
   "cell_type": "code",
   "execution_count": null,
   "metadata": {
    "ExecuteTime": {
     "end_time": "2021-09-11T09:26:54.231003Z",
     "start_time": "2021-09-11T09:26:54.222289Z"
    }
   },
   "outputs": [],
   "source": [
    "fig.write_html('../images/ch4_plot1.html', auto_open=False)"
   ]
  },
  {
   "attachments": {},
   "cell_type": "markdown",
   "metadata": {},
   "source": [
    "## (4) 回帰分析を用いたDID"
   ]
  },
  {
   "cell_type": "code",
   "execution_count": null,
   "metadata": {
    "ExecuteTime": {
     "end_time": "2021-09-11T09:26:54.250855Z",
     "start_time": "2021-09-11T09:26:54.231851Z"
    }
   },
   "outputs": [
    {
     "data": {
      "text/html": [
       "<table class=\"simpletable\">\n",
       "<tr>\n",
       "      <td></td>         <th>coef</th>     <th>std err</th>      <th>t</th>      <th>P>|t|</th>  <th>[0.025</th>    <th>0.975]</th>  \n",
       "</tr>\n",
       "<tr>\n",
       "  <th>const</th>     <td> 2261.0000</td> <td>      inf</td> <td>        0</td> <td>   nan</td> <td>      nan</td> <td>      nan</td>\n",
       "</tr>\n",
       "<tr>\n",
       "  <th>LSV</th>       <td> 1643.0000</td> <td>      inf</td> <td>        0</td> <td>   nan</td> <td>      nan</td> <td>      nan</td>\n",
       "</tr>\n",
       "<tr>\n",
       "  <th>D1854</th>     <td>  197.0000</td> <td>      inf</td> <td>        0</td> <td>   nan</td> <td>      nan</td> <td>      nan</td>\n",
       "</tr>\n",
       "<tr>\n",
       "  <th>D1854_LSV</th> <td>-1554.0000</td> <td>      inf</td> <td>       -0</td> <td>   nan</td> <td>      nan</td> <td>      nan</td>\n",
       "</tr>\n",
       "</table>"
      ],
      "text/latex": [
       "\\begin{center}\n",
       "\\begin{tabular}{lcccccc}\n",
       "\\toprule\n",
       "                    & \\textbf{coef} & \\textbf{std err} & \\textbf{t} & \\textbf{P$> |$t$|$} & \\textbf{[0.025} & \\textbf{0.975]}  \\\\\n",
       "\\midrule\n",
       "\\textbf{const}      &    2261.0000  &          inf     &         0  &           nan        &          nan    &          nan     \\\\\n",
       "\\textbf{LSV}        &    1643.0000  &          inf     &         0  &           nan        &          nan    &          nan     \\\\\n",
       "\\textbf{D1854}      &     197.0000  &          inf     &         0  &           nan        &          nan    &          nan     \\\\\n",
       "\\textbf{D1854\\_LSV} &   -1554.0000  &          inf     &        -0  &           nan        &          nan    &          nan     \\\\\n",
       "\\bottomrule\n",
       "\\end{tabular}\n",
       "\\end{center}"
      ],
      "text/plain": [
       "<class 'statsmodels.iolib.table.SimpleTable'>"
      ]
     },
     "execution_count": 7,
     "metadata": {},
     "output_type": "execute_result"
    }
   ],
   "source": [
    "## Difference in Difference\n",
    "JS_did = JS_sum.copy()\n",
    "JS_did['D1854'] = JS_did.year.apply(lambda x: 1 if x == 1854 else 0)\n",
    "JS_did['D1854_LSV'] = JS_did.D1854 * JS_did.LSV\n",
    "\n",
    "y = JS_did.death\n",
    "X = JS_did[['LSV', 'D1854', 'D1854_LSV']]\n",
    "X = sm.add_constant(X)\n",
    "results = sm.OLS(y, X).fit()\n",
    "coef = results.summary().tables[1]\n",
    "coef"
   ]
  },
  {
   "cell_type": "code",
   "execution_count": null,
   "metadata": {
    "ExecuteTime": {
     "end_time": "2021-09-11T09:26:54.263850Z",
     "start_time": "2021-09-11T09:26:54.251807Z"
    }
   },
   "outputs": [
    {
     "data": {
      "text/html": [
       "<table class=\"simpletable\">\n",
       "<tr>\n",
       "      <td></td>         <th>coef</th>     <th>std err</th>      <th>t</th>      <th>P>|t|</th>  <th>[0.025</th>    <th>0.975]</th>  \n",
       "</tr>\n",
       "<tr>\n",
       "  <th>const</th>     <td>    7.7236</td> <td>      inf</td> <td>        0</td> <td>   nan</td> <td>      nan</td> <td>      nan</td>\n",
       "</tr>\n",
       "<tr>\n",
       "  <th>LSV</th>       <td>    0.5462</td> <td>      inf</td> <td>        0</td> <td>   nan</td> <td>      nan</td> <td>      nan</td>\n",
       "</tr>\n",
       "<tr>\n",
       "  <th>D1854</th>     <td>    0.0835</td> <td>      inf</td> <td>        0</td> <td>   nan</td> <td>      nan</td> <td>      nan</td>\n",
       "</tr>\n",
       "<tr>\n",
       "  <th>D1854_LSV</th> <td>   -0.5106</td> <td>      inf</td> <td>       -0</td> <td>   nan</td> <td>      nan</td> <td>      nan</td>\n",
       "</tr>\n",
       "</table>"
      ],
      "text/latex": [
       "\\begin{center}\n",
       "\\begin{tabular}{lcccccc}\n",
       "\\toprule\n",
       "                    & \\textbf{coef} & \\textbf{std err} & \\textbf{t} & \\textbf{P$> |$t$|$} & \\textbf{[0.025} & \\textbf{0.975]}  \\\\\n",
       "\\midrule\n",
       "\\textbf{const}      &       7.7236  &          inf     &         0  &           nan        &          nan    &          nan     \\\\\n",
       "\\textbf{LSV}        &       0.5462  &          inf     &         0  &           nan        &          nan    &          nan     \\\\\n",
       "\\textbf{D1854}      &       0.0835  &          inf     &         0  &           nan        &          nan    &          nan     \\\\\n",
       "\\textbf{D1854\\_LSV} &      -0.5106  &          inf     &        -0  &           nan        &          nan    &          nan     \\\\\n",
       "\\bottomrule\n",
       "\\end{tabular}\n",
       "\\end{center}"
      ],
      "text/plain": [
       "<class 'statsmodels.iolib.table.SimpleTable'>"
      ]
     },
     "execution_count": 8,
     "metadata": {},
     "output_type": "execute_result"
    }
   ],
   "source": [
    "## Difference in Difference(log)\n",
    "JS_did_log = JS_sum.copy()\n",
    "JS_did_log['D1854'] = JS_did_log.year.apply(lambda x: 1 if x == 1854 else 0)\n",
    "JS_did_log['D1854_LSV'] = JS_did_log.D1854 * JS_did_log.LSV\n",
    "\n",
    "y = np.log(JS_did_log.death)\n",
    "X = JS_did_log[['LSV', 'D1854', 'D1854_LSV']]\n",
    "X = sm.add_constant(X)\n",
    "results = sm.OLS(y, X).fit()\n",
    "coef = results.summary().tables[1]\n",
    "coef"
   ]
  },
  {
   "cell_type": "code",
   "execution_count": null,
   "metadata": {
    "ExecuteTime": {
     "end_time": "2021-09-11T09:26:54.304400Z",
     "start_time": "2021-09-11T09:26:54.264793Z"
    },
    "scrolled": true
   },
   "outputs": [
    {
     "data": {
      "text/html": [
       "<div>\n",
       "<style scoped>\n",
       "    .dataframe tbody tr th:only-of-type {\n",
       "        vertical-align: middle;\n",
       "    }\n",
       "\n",
       "    .dataframe tbody tr th {\n",
       "        vertical-align: top;\n",
       "    }\n",
       "\n",
       "    .dataframe thead th {\n",
       "        text-align: right;\n",
       "    }\n",
       "</style>\n",
       "<table border=\"1\" class=\"dataframe\">\n",
       "  <thead>\n",
       "    <tr style=\"text-align: right;\">\n",
       "      <th></th>\n",
       "      <th>coef</th>\n",
       "      <th>std err</th>\n",
       "      <th>t</th>\n",
       "      <th>P&gt;|t|</th>\n",
       "      <th>[0.025</th>\n",
       "      <th>0.975]</th>\n",
       "    </tr>\n",
       "  </thead>\n",
       "  <tbody>\n",
       "    <tr>\n",
       "      <th>const</th>\n",
       "      <td>177.7076</td>\n",
       "      <td>15.710</td>\n",
       "      <td>11.312</td>\n",
       "      <td>0.000</td>\n",
       "      <td>145.415</td>\n",
       "      <td>210.000</td>\n",
       "    </tr>\n",
       "    <tr>\n",
       "      <th>LSV</th>\n",
       "      <td>49.1987</td>\n",
       "      <td>44.773</td>\n",
       "      <td>1.099</td>\n",
       "      <td>0.282</td>\n",
       "      <td>-42.833</td>\n",
       "      <td>141.230</td>\n",
       "    </tr>\n",
       "    <tr>\n",
       "      <th>D1854</th>\n",
       "      <td>16.4167</td>\n",
       "      <td>25.365</td>\n",
       "      <td>0.647</td>\n",
       "      <td>0.523</td>\n",
       "      <td>-35.721</td>\n",
       "      <td>68.555</td>\n",
       "    </tr>\n",
       "    <tr>\n",
       "      <th>D1854_LSV</th>\n",
       "      <td>-101.2292</td>\n",
       "      <td>33.554</td>\n",
       "      <td>-3.017</td>\n",
       "      <td>0.006</td>\n",
       "      <td>-170.201</td>\n",
       "      <td>-32.257</td>\n",
       "    </tr>\n",
       "  </tbody>\n",
       "</table>\n",
       "</div>"
      ],
      "text/plain": [
       "               coef  std err       t  P>|t|   [0.025   0.975]\n",
       "const      177.7076   15.710  11.312  0.000  145.415  210.000\n",
       "LSV         49.1987   44.773   1.099  0.282  -42.833  141.230\n",
       "D1854       16.4167   25.365   0.647  0.523  -35.721   68.555\n",
       "D1854_LSV -101.2292   33.554  -3.017  0.006 -170.201  -32.257"
      ]
     },
     "execution_count": 11,
     "metadata": {},
     "output_type": "execute_result"
    }
   ],
   "source": [
    "## Difference in Difference(エリア単位)\n",
    "JS_did_area = JS_df.copy()\n",
    "JS_did_area['D1854'] = JS_did_area.year.apply(lambda x: 1 if x == 1854 else 0)\n",
    "JS_did_area['D1854_LSV'] = JS_did_area.D1854 * JS_did_area.LSV\n",
    "\n",
    "y = JS_did_area.death\n",
    "X = pd.get_dummies(JS_did_area[['LSV', 'area', 'D1854', 'D1854_LSV']], columns=['area'], drop_first=True, dtype=float)\n",
    "X = sm.add_constant(X)\n",
    "results = sm.OLS(y, X).fit()\n",
    "coef = results.summary().tables[1]\n",
    "coef = pd.read_html(coef.as_html(), header=0, index_col=0)[0]\n",
    "coef.iloc[:4]"
   ]
  },
  {
   "cell_type": "code",
   "execution_count": null,
   "metadata": {
    "ExecuteTime": {
     "end_time": "2021-09-11T09:26:54.331906Z",
     "start_time": "2021-09-11T09:26:54.305885Z"
    }
   },
   "outputs": [
    {
     "data": {
      "text/html": [
       "<div>\n",
       "<style scoped>\n",
       "    .dataframe tbody tr th:only-of-type {\n",
       "        vertical-align: middle;\n",
       "    }\n",
       "\n",
       "    .dataframe tbody tr th {\n",
       "        vertical-align: top;\n",
       "    }\n",
       "\n",
       "    .dataframe thead th {\n",
       "        text-align: right;\n",
       "    }\n",
       "</style>\n",
       "<table border=\"1\" class=\"dataframe\">\n",
       "  <thead>\n",
       "    <tr style=\"text-align: right;\">\n",
       "      <th></th>\n",
       "      <th>coef</th>\n",
       "      <th>std err</th>\n",
       "      <th>t</th>\n",
       "      <th>P&gt;|t|</th>\n",
       "      <th>[0.025</th>\n",
       "      <th>0.975]</th>\n",
       "    </tr>\n",
       "  </thead>\n",
       "  <tbody>\n",
       "    <tr>\n",
       "      <th>const</th>\n",
       "      <td>4.6461</td>\n",
       "      <td>0.082</td>\n",
       "      <td>56.393</td>\n",
       "      <td>0.000</td>\n",
       "      <td>4.477</td>\n",
       "      <td>4.815</td>\n",
       "    </tr>\n",
       "    <tr>\n",
       "      <th>LSV</th>\n",
       "      <td>0.7363</td>\n",
       "      <td>0.235</td>\n",
       "      <td>3.136</td>\n",
       "      <td>0.004</td>\n",
       "      <td>0.254</td>\n",
       "      <td>1.219</td>\n",
       "    </tr>\n",
       "    <tr>\n",
       "      <th>D1854</th>\n",
       "      <td>0.0739</td>\n",
       "      <td>0.133</td>\n",
       "      <td>0.556</td>\n",
       "      <td>0.583</td>\n",
       "      <td>-0.200</td>\n",
       "      <td>0.347</td>\n",
       "    </tr>\n",
       "    <tr>\n",
       "      <th>D1854_LSV</th>\n",
       "      <td>-0.5661</td>\n",
       "      <td>0.176</td>\n",
       "      <td>-3.217</td>\n",
       "      <td>0.003</td>\n",
       "      <td>-0.928</td>\n",
       "      <td>-0.204</td>\n",
       "    </tr>\n",
       "  </tbody>\n",
       "</table>\n",
       "</div>"
      ],
      "text/plain": [
       "             coef  std err       t  P>|t|  [0.025  0.975]\n",
       "const      4.6461    0.082  56.393  0.000   4.477   4.815\n",
       "LSV        0.7363    0.235   3.136  0.004   0.254   1.219\n",
       "D1854      0.0739    0.133   0.556  0.583  -0.200   0.347\n",
       "D1854_LSV -0.5661    0.176  -3.217  0.003  -0.928  -0.204"
      ]
     },
     "execution_count": 13,
     "metadata": {},
     "output_type": "execute_result"
    }
   ],
   "source": [
    "## Difference in Difference(州単位、log)\n",
    "JS_did_area_log = JS_df.copy()\n",
    "JS_did_area_log['D1854'] = JS_did_area_log.year.apply(lambda x: 1 if x == 1854 else 0)\n",
    "JS_did_area_log['D1854_LSV'] = JS_did_area_log.D1854 * JS_did_area_log.LSV\n",
    "\n",
    "y = np.log(JS_did_area_log.death)\n",
    "X = pd.get_dummies(JS_did_area_log[['LSV', 'area', 'D1854', 'D1854_LSV']], columns=['area'], drop_first=True, dtype=float)\n",
    "X = sm.add_constant(X)\n",
    "results = sm.OLS(y, X).fit()\n",
    "coef = results.summary().tables[1]\n",
    "coef = pd.read_html(coef.as_html(), header=0, index_col=0)[0]\n",
    "coef.iloc[:4]"
   ]
  },
  {
   "attachments": {},
   "cell_type": "markdown",
   "metadata": {},
   "source": [
    "## (7) Proposition99の分析：集計による分析"
   ]
  },
  {
   "attachments": {},
   "cell_type": "markdown",
   "metadata": {},
   "source": [
    "### データの用意\n",
    "Rパッケージのデータセットをrpy2経由で取得するか、元データをローカルに保存しておくかの2通り記載する。"
   ]
  },
  {
   "attachments": {},
   "cell_type": "markdown",
   "metadata": {},
   "source": [
    "### 1. rpy2を経由してRパッケージEcdatから取得する\n",
    "(事前にRにEcdatを下記のようにしてインストールする)\n",
    "```\n",
    "sudo R\n",
    "install.packages('Ecdat')\n",
    "```"
   ]
  },
  {
   "cell_type": "code",
   "execution_count": null,
   "metadata": {
    "ExecuteTime": {
     "end_time": "2021-09-11T09:26:54.488943Z",
     "start_time": "2021-09-11T09:26:54.332633Z"
    }
   },
   "outputs": [
    {
     "ename": "ModuleNotFoundError",
     "evalue": "No module named 'rpy2'",
     "output_type": "error",
     "traceback": [
      "\u001b[0;31m---------------------------------------------------------------------------\u001b[0m",
      "\u001b[0;31mModuleNotFoundError\u001b[0m                       Traceback (most recent call last)",
      "Cell \u001b[0;32mIn[18], line 1\u001b[0m\n\u001b[0;32m----> 1\u001b[0m \u001b[39mfrom\u001b[39;00m \u001b[39mrpy2\u001b[39;00m\u001b[39m.\u001b[39;00m\u001b[39mrobjects\u001b[39;00m \u001b[39mimport\u001b[39;00m r, pandas2ri\n\u001b[1;32m      2\u001b[0m \u001b[39mfrom\u001b[39;00m \u001b[39mrpy2\u001b[39;00m\u001b[39m.\u001b[39;00m\u001b[39mrobjects\u001b[39;00m\u001b[39m.\u001b[39;00m\u001b[39mpackages\u001b[39;00m \u001b[39mimport\u001b[39;00m importr\n\u001b[1;32m      3\u001b[0m pandas2ri\u001b[39m.\u001b[39mactivate()\n",
      "\u001b[0;31mModuleNotFoundError\u001b[0m: No module named 'rpy2'"
     ]
    }
   ],
   "source": [
    "from rpy2.robjects import r, pandas2ri\n",
    "from rpy2.robjects.packages import importr\n",
    "pandas2ri.activate()"
   ]
  },
  {
   "cell_type": "code",
   "execution_count": null,
   "metadata": {
    "ExecuteTime": {
     "end_time": "2021-09-11T09:26:55.717754Z",
     "start_time": "2021-09-11T09:26:54.490213Z"
    }
   },
   "outputs": [],
   "source": [
    "importr('Ecdat')\n",
    "importr('tidyverse')\n",
    "### Common Trend Assumptionの為に分析から特定の州を外す\n",
    "### タバコの税金が1988年以降50セント以上上がった州のリスト\n",
    "### Alaska, Hawaii, Maryland, Michigan, New Jersey, New York, Washington\n",
    "r('skip_state <- c(3,9,10,22,21,23,31,33,48)')\n",
    "### Cigarデータセットの読み込み\n",
    "### skip_stateに含まれる州のデータを削除\n",
    "cigar = r('''Cigar <- Cigar %>%\n",
    "  filter(!state %in% skip_state,\n",
    "         year >= 70) %>%\n",
    "  mutate(area = if_else(state == 5, \"CA\", \"Rest of US\"))''')"
   ]
  },
  {
   "attachments": {},
   "cell_type": "markdown",
   "metadata": {},
   "source": [
    "### 2. 元データをローカルに保存して読み込む\n",
    "EcdatのCRANのドキュメントを確認する(https://cran.r-project.org/web/packages/Ecdat/Ecdat.pdf )と、  \n",
    "Cigarデータセットは (https://www.wiley.com/legacy/wileychi/baltagi/ )が元であることが分かる。  \n",
    "いくつかデータセットがあるが、Cigarにあたるのは右記 https://www.wiley.com/legacy/wileychi/baltagi/supp/Cigar.txt  \n",
    "URLから直接pd.read_csvや、requests.getしてもうまくいかない（おそらく弾いてると思われる）ので、テキストをコピペして  \n",
    "ローカルに保存しておく。(下記の場合は `../data/cigar.txt`に保存している)  \n",
    "※1行目および最終行に空行があるので事前に消しておく"
   ]
  },
  {
   "cell_type": "code",
   "execution_count": 13,
   "metadata": {
    "ExecuteTime": {
     "end_time": "2021-09-11T09:26:55.734452Z",
     "start_time": "2021-09-11T09:26:55.719165Z"
    }
   },
   "outputs": [],
   "source": [
    "cigar = pd.read_csv(\n",
    "    './cigar.txt',\n",
    "    header=None, \n",
    "    sep='\\s',\n",
    "    names=['state', 'year', 'price', 'pop', 'pop16', 'cpi', 'ndi', 'sales','pimin']\n",
    ")\n",
    "skip_state = [3,9,10,22,21,23,31,33,48]\n",
    "cigar = cigar[(~cigar['state'].isin(skip_state)) & (cigar['year'] >= 70)].reset_index(drop=True)\n",
    "cigar['area'] = cigar['state'].apply(lambda x: 'CA' if x==5 else 'Rest of US')"
   ]
  },
  {
   "attachments": {},
   "cell_type": "markdown",
   "metadata": {},
   "source": [
    "## 前後比較による分析"
   ]
  },
  {
   "cell_type": "code",
   "execution_count": 5,
   "metadata": {
    "ExecuteTime": {
     "end_time": "2021-09-11T09:26:55.749793Z",
     "start_time": "2021-09-11T09:26:55.735254Z"
    },
    "scrolled": true
   },
   "outputs": [
    {
     "name": "stderr",
     "output_type": "stream",
     "text": [
      "/var/folders/25/9b_gpl490w9ffmj63bfx0z2r0000gn/T/ipykernel_46803/69998381.py:5: FutureWarning: Indexing with multiple keys (implicitly converted to a tuple of keys) will be deprecated, use a list instead.\n",
      "  summarised = cigar_did.groupby(['period', 'state'], as_index=False)['pop16', 'sales_pop16'].mean().sort_values('period', ascending=False)\n"
     ]
    }
   ],
   "source": [
    "cigar_did = cigar.copy()\n",
    "cigar_did['period'] = cigar_did.year.apply(lambda x: 'after' if x > 87 else 'before')\n",
    "cigar_did['state'] = cigar_did.state.apply(lambda x: 'CA' if x==5 else 'Rest of US')\n",
    "cigar_did['sales_pop16'] = cigar_did['sales'] * cigar_did['pop16']\n",
    "summarised = cigar_did.groupby(['period', 'state'], as_index=False)['pop16', 'sales_pop16'].mean().sort_values('period', ascending=False)\n",
    "summarised['sales'] = summarised.sales_pop16 / summarised.pop16"
   ]
  },
  {
   "cell_type": "code",
   "execution_count": 6,
   "metadata": {
    "ExecuteTime": {
     "end_time": "2021-09-11T09:26:55.760206Z",
     "start_time": "2021-09-11T09:26:55.750719Z"
    }
   },
   "outputs": [
    {
     "data": {
      "text/html": [
       "<div>\n",
       "<style scoped>\n",
       "    .dataframe tbody tr th:only-of-type {\n",
       "        vertical-align: middle;\n",
       "    }\n",
       "\n",
       "    .dataframe tbody tr th {\n",
       "        vertical-align: top;\n",
       "    }\n",
       "\n",
       "    .dataframe thead th {\n",
       "        text-align: right;\n",
       "    }\n",
       "</style>\n",
       "<table border=\"1\" class=\"dataframe\">\n",
       "  <thead>\n",
       "    <tr style=\"text-align: right;\">\n",
       "      <th></th>\n",
       "      <th>period</th>\n",
       "      <th>state</th>\n",
       "      <th>pop16</th>\n",
       "      <th>sales_pop16</th>\n",
       "      <th>sales</th>\n",
       "    </tr>\n",
       "  </thead>\n",
       "  <tbody>\n",
       "    <tr>\n",
       "      <th>2</th>\n",
       "      <td>before</td>\n",
       "      <td>CA</td>\n",
       "      <td>17674.250000</td>\n",
       "      <td>2.061836e+06</td>\n",
       "      <td>116.657645</td>\n",
       "    </tr>\n",
       "    <tr>\n",
       "      <th>3</th>\n",
       "      <td>before</td>\n",
       "      <td>Rest of US</td>\n",
       "      <td>2605.420216</td>\n",
       "      <td>3.304769e+05</td>\n",
       "      <td>126.842072</td>\n",
       "    </tr>\n",
       "    <tr>\n",
       "      <th>0</th>\n",
       "      <td>after</td>\n",
       "      <td>CA</td>\n",
       "      <td>22355.320000</td>\n",
       "      <td>1.724154e+06</td>\n",
       "      <td>77.124997</td>\n",
       "    </tr>\n",
       "    <tr>\n",
       "      <th>1</th>\n",
       "      <td>after</td>\n",
       "      <td>Rest of US</td>\n",
       "      <td>2948.603889</td>\n",
       "      <td>3.151694e+05</td>\n",
       "      <td>106.887669</td>\n",
       "    </tr>\n",
       "  </tbody>\n",
       "</table>\n",
       "</div>"
      ],
      "text/plain": [
       "   period       state         pop16   sales_pop16       sales\n",
       "2  before          CA  17674.250000  2.061836e+06  116.657645\n",
       "3  before  Rest of US   2605.420216  3.304769e+05  126.842072\n",
       "0   after          CA  22355.320000  1.724154e+06   77.124997\n",
       "1   after  Rest of US   2948.603889  3.151694e+05  106.887669"
      ]
     },
     "execution_count": 6,
     "metadata": {},
     "output_type": "execute_result"
    }
   ],
   "source": [
    "summarised"
   ]
  },
  {
   "cell_type": "code",
   "execution_count": 7,
   "metadata": {
    "ExecuteTime": {
     "end_time": "2021-09-11T09:26:55.803806Z",
     "start_time": "2021-09-11T09:26:55.761104Z"
    },
    "scrolled": false
   },
   "outputs": [
    {
     "ename": "ValueError",
     "evalue": "Mime type rendering requires nbformat>=4.2.0 but it is not installed",
     "output_type": "error",
     "traceback": [
      "\u001b[0;31m---------------------------------------------------------------------------\u001b[0m",
      "\u001b[0;31mValueError\u001b[0m                                Traceback (most recent call last)",
      "Cell \u001b[0;32mIn[7], line 16\u001b[0m\n\u001b[1;32m      2\u001b[0m fig\u001b[38;5;241m.\u001b[39madd_trace(go\u001b[38;5;241m.\u001b[39mScatter(\n\u001b[1;32m      3\u001b[0m     x\u001b[38;5;241m=\u001b[39m[\u001b[38;5;124m'\u001b[39m\u001b[38;5;124mbefore\u001b[39m\u001b[38;5;124m'\u001b[39m, \u001b[38;5;124m'\u001b[39m\u001b[38;5;124mafter\u001b[39m\u001b[38;5;124m'\u001b[39m],\n\u001b[1;32m      4\u001b[0m     y\u001b[38;5;241m=\u001b[39m[\u001b[38;5;241m126.842072\u001b[39m, \u001b[38;5;241m106.887669\u001b[39m],\n\u001b[0;32m   (...)\u001b[0m\n\u001b[1;32m      7\u001b[0m     name\u001b[38;5;241m=\u001b[39m\u001b[38;5;124m'\u001b[39m\u001b[38;5;124m'\u001b[39m\n\u001b[1;32m      8\u001b[0m ))\n\u001b[1;32m      9\u001b[0m fig\u001b[38;5;241m.\u001b[39madd_trace(go\u001b[38;5;241m.\u001b[39mScatter(\n\u001b[1;32m     10\u001b[0m     x\u001b[38;5;241m=\u001b[39m[\u001b[38;5;124m'\u001b[39m\u001b[38;5;124mbefore\u001b[39m\u001b[38;5;124m'\u001b[39m, \u001b[38;5;124m'\u001b[39m\u001b[38;5;124mafter\u001b[39m\u001b[38;5;124m'\u001b[39m],\n\u001b[1;32m     11\u001b[0m     y\u001b[38;5;241m=\u001b[39m[\u001b[38;5;241m116.657645\u001b[39m, \u001b[38;5;241m77.124997\u001b[39m],\n\u001b[0;32m   (...)\u001b[0m\n\u001b[1;32m     14\u001b[0m     name\u001b[38;5;241m=\u001b[39m\u001b[38;5;124m'\u001b[39m\u001b[38;5;124m'\u001b[39m\n\u001b[1;32m     15\u001b[0m ))\n\u001b[0;32m---> 16\u001b[0m \u001b[43mfig\u001b[49m\u001b[38;5;241;43m.\u001b[39;49m\u001b[43mshow\u001b[49m\u001b[43m(\u001b[49m\u001b[43m)\u001b[49m\n",
      "File \u001b[0;32m~/Library/Python/3.9/lib/python/site-packages/plotly/basedatatypes.py:3409\u001b[0m, in \u001b[0;36mBaseFigure.show\u001b[0;34m(self, *args, **kwargs)\u001b[0m\n\u001b[1;32m   3376\u001b[0m \u001b[38;5;250m\u001b[39m\u001b[38;5;124;03m\"\"\"\u001b[39;00m\n\u001b[1;32m   3377\u001b[0m \u001b[38;5;124;03mShow a figure using either the default renderer(s) or the renderer(s)\u001b[39;00m\n\u001b[1;32m   3378\u001b[0m \u001b[38;5;124;03mspecified by the renderer argument\u001b[39;00m\n\u001b[0;32m   (...)\u001b[0m\n\u001b[1;32m   3405\u001b[0m \u001b[38;5;124;03mNone\u001b[39;00m\n\u001b[1;32m   3406\u001b[0m \u001b[38;5;124;03m\"\"\"\u001b[39;00m\n\u001b[1;32m   3407\u001b[0m \u001b[38;5;28;01mimport\u001b[39;00m \u001b[38;5;21;01mplotly\u001b[39;00m\u001b[38;5;21;01m.\u001b[39;00m\u001b[38;5;21;01mio\u001b[39;00m \u001b[38;5;28;01mas\u001b[39;00m \u001b[38;5;21;01mpio\u001b[39;00m\n\u001b[0;32m-> 3409\u001b[0m \u001b[38;5;28;01mreturn\u001b[39;00m \u001b[43mpio\u001b[49m\u001b[38;5;241;43m.\u001b[39;49m\u001b[43mshow\u001b[49m\u001b[43m(\u001b[49m\u001b[38;5;28;43mself\u001b[39;49m\u001b[43m,\u001b[49m\u001b[43m \u001b[49m\u001b[38;5;241;43m*\u001b[39;49m\u001b[43margs\u001b[49m\u001b[43m,\u001b[49m\u001b[43m \u001b[49m\u001b[38;5;241;43m*\u001b[39;49m\u001b[38;5;241;43m*\u001b[39;49m\u001b[43mkwargs\u001b[49m\u001b[43m)\u001b[49m\n",
      "File \u001b[0;32m~/Library/Python/3.9/lib/python/site-packages/plotly/io/_renderers.py:396\u001b[0m, in \u001b[0;36mshow\u001b[0;34m(fig, renderer, validate, **kwargs)\u001b[0m\n\u001b[1;32m    391\u001b[0m         \u001b[38;5;28;01mraise\u001b[39;00m \u001b[38;5;167;01mValueError\u001b[39;00m(\n\u001b[1;32m    392\u001b[0m             \u001b[38;5;124m\"\u001b[39m\u001b[38;5;124mMime type rendering requires ipython but it is not installed\u001b[39m\u001b[38;5;124m\"\u001b[39m\n\u001b[1;32m    393\u001b[0m         )\n\u001b[1;32m    395\u001b[0m     \u001b[38;5;28;01mif\u001b[39;00m \u001b[38;5;129;01mnot\u001b[39;00m nbformat \u001b[38;5;129;01mor\u001b[39;00m Version(nbformat\u001b[38;5;241m.\u001b[39m__version__) \u001b[38;5;241m<\u001b[39m Version(\u001b[38;5;124m\"\u001b[39m\u001b[38;5;124m4.2.0\u001b[39m\u001b[38;5;124m\"\u001b[39m):\n\u001b[0;32m--> 396\u001b[0m         \u001b[38;5;28;01mraise\u001b[39;00m \u001b[38;5;167;01mValueError\u001b[39;00m(\n\u001b[1;32m    397\u001b[0m             \u001b[38;5;124m\"\u001b[39m\u001b[38;5;124mMime type rendering requires nbformat>=4.2.0 but it is not installed\u001b[39m\u001b[38;5;124m\"\u001b[39m\n\u001b[1;32m    398\u001b[0m         )\n\u001b[1;32m    400\u001b[0m     ipython_display\u001b[38;5;241m.\u001b[39mdisplay(bundle, raw\u001b[38;5;241m=\u001b[39m\u001b[38;5;28;01mTrue\u001b[39;00m)\n\u001b[1;32m    402\u001b[0m \u001b[38;5;66;03m# external renderers\u001b[39;00m\n",
      "\u001b[0;31mValueError\u001b[0m: Mime type rendering requires nbformat>=4.2.0 but it is not installed"
     ]
    }
   ],
   "source": [
    "fig = px.scatter(summarised, x='period', y='sales', color='state', symbol='state', title='4.5 タバコの売上の前後比較')\n",
    "fig.add_trace(go.Scatter(\n",
    "    x=['before', 'after'],\n",
    "    y=[126.842072, 106.887669],\n",
    "    mode=\"lines\",\n",
    "    line=dict(color='gray', dash='dot'),\n",
    "    name=''\n",
    "))\n",
    "fig.add_trace(go.Scatter(\n",
    "    x=['before', 'after'],\n",
    "    y=[116.657645, 77.124997],\n",
    "    mode=\"lines\",\n",
    "    line=dict(color='gray', dash='dot'),\n",
    "    name=''\n",
    "))\n",
    "fig.show()"
   ]
  },
  {
   "cell_type": "code",
   "execution_count": null,
   "metadata": {
    "ExecuteTime": {
     "end_time": "2021-09-11T09:26:55.813703Z",
     "start_time": "2021-09-11T09:26:55.804735Z"
    }
   },
   "outputs": [],
   "source": [
    "fig.write_html('../images/ch4_plot2.html', auto_open=False)"
   ]
  },
  {
   "attachments": {},
   "cell_type": "markdown",
   "metadata": {},
   "source": [
    "## タバコの売上のトレンドを示すプロット"
   ]
  },
  {
   "cell_type": "code",
   "execution_count": null,
   "metadata": {
    "ExecuteTime": {
     "end_time": "2021-09-11T09:26:55.827538Z",
     "start_time": "2021-09-11T09:26:55.814548Z"
    }
   },
   "outputs": [],
   "source": [
    "sales_trend = cigar_did.groupby(['year', 'state'], as_index=False)['pop16', 'sales_pop16'].mean()\n",
    "sales_trend['sales'] = sales_trend.sales_pop16 / sales_trend.pop16"
   ]
  },
  {
   "cell_type": "code",
   "execution_count": null,
   "metadata": {
    "ExecuteTime": {
     "end_time": "2021-09-11T09:26:55.893897Z",
     "start_time": "2021-09-11T09:26:55.828409Z"
    }
   },
   "outputs": [
    {
     "data": {
      "application/vnd.plotly.v1+json": {
       "config": {
        "plotlyServerURL": "https://plot.ly"
       },
       "data": [
        {
         "hovertemplate": "state=CA<br>year=%{x}<br>sales=%{y}<extra></extra>",
         "legendgroup": "CA",
         "line": {
          "color": "#636efa",
          "dash": "solid"
         },
         "marker": {
          "symbol": "circle"
         },
         "mode": "lines",
         "name": "CA",
         "orientation": "v",
         "showlegend": true,
         "type": "scatter",
         "x": [
          70,
          71,
          72,
          73,
          74,
          75,
          76,
          77,
          78,
          79,
          80,
          81,
          82,
          83,
          84,
          85,
          86,
          87,
          88,
          89,
          90,
          91,
          92
         ],
         "xaxis": "x",
         "y": [
          123,
          121,
          123.5,
          124.4,
          126.70000000000002,
          127.1,
          128,
          126.40000000000002,
          126.1,
          121.9,
          120.2,
          118.6,
          115.40000000000002,
          110.8,
          104.8,
          102.8,
          99.7,
          97.5,
          90.1,
          82.4,
          77.8,
          68.7,
          67.5
         ],
         "yaxis": "y"
        },
        {
         "hovertemplate": "state=Rest of US<br>year=%{x}<br>sales=%{y}<extra></extra>",
         "legendgroup": "Rest of US",
         "line": {
          "color": "#EF553B",
          "dash": "solid"
         },
         "marker": {
          "symbol": "circle"
         },
         "mode": "lines",
         "name": "Rest of US",
         "orientation": "v",
         "showlegend": true,
         "type": "scatter",
         "x": [
          70,
          71,
          72,
          73,
          74,
          75,
          76,
          77,
          78,
          79,
          80,
          81,
          82,
          83,
          84,
          85,
          86,
          87,
          88,
          89,
          90,
          91,
          92
         ],
         "xaxis": "x",
         "y": [
          115.0332843178067,
          118.11756764038488,
          120.85717941929221,
          122.8194998435925,
          126.94044752512308,
          128.63028737625623,
          132.79690724381626,
          134.1759843474535,
          134.7005829333655,
          133.21533102817048,
          134.4499272457649,
          134.20112869253083,
          133.2315561977076,
          129.3158736465581,
          123.3739071096221,
          122.45670806948941,
          120.68700732658984,
          116.51293056130655,
          113.41812722909077,
          110.00204331718439,
          105.33953399097408,
          103.51262471643668,
          102.3941834456037
         ],
         "yaxis": "y"
        }
       ],
       "layout": {
        "legend": {
         "title": {
          "text": "state"
         },
         "tracegroupgap": 0
        },
        "template": {
         "data": {
          "bar": [
           {
            "error_x": {
             "color": "#2a3f5f"
            },
            "error_y": {
             "color": "#2a3f5f"
            },
            "marker": {
             "line": {
              "color": "#E5ECF6",
              "width": 0.5
             },
             "pattern": {
              "fillmode": "overlay",
              "size": 10,
              "solidity": 0.2
             }
            },
            "type": "bar"
           }
          ],
          "barpolar": [
           {
            "marker": {
             "line": {
              "color": "#E5ECF6",
              "width": 0.5
             },
             "pattern": {
              "fillmode": "overlay",
              "size": 10,
              "solidity": 0.2
             }
            },
            "type": "barpolar"
           }
          ],
          "carpet": [
           {
            "aaxis": {
             "endlinecolor": "#2a3f5f",
             "gridcolor": "white",
             "linecolor": "white",
             "minorgridcolor": "white",
             "startlinecolor": "#2a3f5f"
            },
            "baxis": {
             "endlinecolor": "#2a3f5f",
             "gridcolor": "white",
             "linecolor": "white",
             "minorgridcolor": "white",
             "startlinecolor": "#2a3f5f"
            },
            "type": "carpet"
           }
          ],
          "choropleth": [
           {
            "colorbar": {
             "outlinewidth": 0,
             "ticks": ""
            },
            "type": "choropleth"
           }
          ],
          "contour": [
           {
            "colorbar": {
             "outlinewidth": 0,
             "ticks": ""
            },
            "colorscale": [
             [
              0,
              "#0d0887"
             ],
             [
              0.1111111111111111,
              "#46039f"
             ],
             [
              0.2222222222222222,
              "#7201a8"
             ],
             [
              0.3333333333333333,
              "#9c179e"
             ],
             [
              0.4444444444444444,
              "#bd3786"
             ],
             [
              0.5555555555555556,
              "#d8576b"
             ],
             [
              0.6666666666666666,
              "#ed7953"
             ],
             [
              0.7777777777777778,
              "#fb9f3a"
             ],
             [
              0.8888888888888888,
              "#fdca26"
             ],
             [
              1,
              "#f0f921"
             ]
            ],
            "type": "contour"
           }
          ],
          "contourcarpet": [
           {
            "colorbar": {
             "outlinewidth": 0,
             "ticks": ""
            },
            "type": "contourcarpet"
           }
          ],
          "heatmap": [
           {
            "colorbar": {
             "outlinewidth": 0,
             "ticks": ""
            },
            "colorscale": [
             [
              0,
              "#0d0887"
             ],
             [
              0.1111111111111111,
              "#46039f"
             ],
             [
              0.2222222222222222,
              "#7201a8"
             ],
             [
              0.3333333333333333,
              "#9c179e"
             ],
             [
              0.4444444444444444,
              "#bd3786"
             ],
             [
              0.5555555555555556,
              "#d8576b"
             ],
             [
              0.6666666666666666,
              "#ed7953"
             ],
             [
              0.7777777777777778,
              "#fb9f3a"
             ],
             [
              0.8888888888888888,
              "#fdca26"
             ],
             [
              1,
              "#f0f921"
             ]
            ],
            "type": "heatmap"
           }
          ],
          "heatmapgl": [
           {
            "colorbar": {
             "outlinewidth": 0,
             "ticks": ""
            },
            "colorscale": [
             [
              0,
              "#0d0887"
             ],
             [
              0.1111111111111111,
              "#46039f"
             ],
             [
              0.2222222222222222,
              "#7201a8"
             ],
             [
              0.3333333333333333,
              "#9c179e"
             ],
             [
              0.4444444444444444,
              "#bd3786"
             ],
             [
              0.5555555555555556,
              "#d8576b"
             ],
             [
              0.6666666666666666,
              "#ed7953"
             ],
             [
              0.7777777777777778,
              "#fb9f3a"
             ],
             [
              0.8888888888888888,
              "#fdca26"
             ],
             [
              1,
              "#f0f921"
             ]
            ],
            "type": "heatmapgl"
           }
          ],
          "histogram": [
           {
            "marker": {
             "pattern": {
              "fillmode": "overlay",
              "size": 10,
              "solidity": 0.2
             }
            },
            "type": "histogram"
           }
          ],
          "histogram2d": [
           {
            "colorbar": {
             "outlinewidth": 0,
             "ticks": ""
            },
            "colorscale": [
             [
              0,
              "#0d0887"
             ],
             [
              0.1111111111111111,
              "#46039f"
             ],
             [
              0.2222222222222222,
              "#7201a8"
             ],
             [
              0.3333333333333333,
              "#9c179e"
             ],
             [
              0.4444444444444444,
              "#bd3786"
             ],
             [
              0.5555555555555556,
              "#d8576b"
             ],
             [
              0.6666666666666666,
              "#ed7953"
             ],
             [
              0.7777777777777778,
              "#fb9f3a"
             ],
             [
              0.8888888888888888,
              "#fdca26"
             ],
             [
              1,
              "#f0f921"
             ]
            ],
            "type": "histogram2d"
           }
          ],
          "histogram2dcontour": [
           {
            "colorbar": {
             "outlinewidth": 0,
             "ticks": ""
            },
            "colorscale": [
             [
              0,
              "#0d0887"
             ],
             [
              0.1111111111111111,
              "#46039f"
             ],
             [
              0.2222222222222222,
              "#7201a8"
             ],
             [
              0.3333333333333333,
              "#9c179e"
             ],
             [
              0.4444444444444444,
              "#bd3786"
             ],
             [
              0.5555555555555556,
              "#d8576b"
             ],
             [
              0.6666666666666666,
              "#ed7953"
             ],
             [
              0.7777777777777778,
              "#fb9f3a"
             ],
             [
              0.8888888888888888,
              "#fdca26"
             ],
             [
              1,
              "#f0f921"
             ]
            ],
            "type": "histogram2dcontour"
           }
          ],
          "mesh3d": [
           {
            "colorbar": {
             "outlinewidth": 0,
             "ticks": ""
            },
            "type": "mesh3d"
           }
          ],
          "parcoords": [
           {
            "line": {
             "colorbar": {
              "outlinewidth": 0,
              "ticks": ""
             }
            },
            "type": "parcoords"
           }
          ],
          "pie": [
           {
            "automargin": true,
            "type": "pie"
           }
          ],
          "scatter": [
           {
            "marker": {
             "colorbar": {
              "outlinewidth": 0,
              "ticks": ""
             }
            },
            "type": "scatter"
           }
          ],
          "scatter3d": [
           {
            "line": {
             "colorbar": {
              "outlinewidth": 0,
              "ticks": ""
             }
            },
            "marker": {
             "colorbar": {
              "outlinewidth": 0,
              "ticks": ""
             }
            },
            "type": "scatter3d"
           }
          ],
          "scattercarpet": [
           {
            "marker": {
             "colorbar": {
              "outlinewidth": 0,
              "ticks": ""
             }
            },
            "type": "scattercarpet"
           }
          ],
          "scattergeo": [
           {
            "marker": {
             "colorbar": {
              "outlinewidth": 0,
              "ticks": ""
             }
            },
            "type": "scattergeo"
           }
          ],
          "scattergl": [
           {
            "marker": {
             "colorbar": {
              "outlinewidth": 0,
              "ticks": ""
             }
            },
            "type": "scattergl"
           }
          ],
          "scattermapbox": [
           {
            "marker": {
             "colorbar": {
              "outlinewidth": 0,
              "ticks": ""
             }
            },
            "type": "scattermapbox"
           }
          ],
          "scatterpolar": [
           {
            "marker": {
             "colorbar": {
              "outlinewidth": 0,
              "ticks": ""
             }
            },
            "type": "scatterpolar"
           }
          ],
          "scatterpolargl": [
           {
            "marker": {
             "colorbar": {
              "outlinewidth": 0,
              "ticks": ""
             }
            },
            "type": "scatterpolargl"
           }
          ],
          "scatterternary": [
           {
            "marker": {
             "colorbar": {
              "outlinewidth": 0,
              "ticks": ""
             }
            },
            "type": "scatterternary"
           }
          ],
          "surface": [
           {
            "colorbar": {
             "outlinewidth": 0,
             "ticks": ""
            },
            "colorscale": [
             [
              0,
              "#0d0887"
             ],
             [
              0.1111111111111111,
              "#46039f"
             ],
             [
              0.2222222222222222,
              "#7201a8"
             ],
             [
              0.3333333333333333,
              "#9c179e"
             ],
             [
              0.4444444444444444,
              "#bd3786"
             ],
             [
              0.5555555555555556,
              "#d8576b"
             ],
             [
              0.6666666666666666,
              "#ed7953"
             ],
             [
              0.7777777777777778,
              "#fb9f3a"
             ],
             [
              0.8888888888888888,
              "#fdca26"
             ],
             [
              1,
              "#f0f921"
             ]
            ],
            "type": "surface"
           }
          ],
          "table": [
           {
            "cells": {
             "fill": {
              "color": "#EBF0F8"
             },
             "line": {
              "color": "white"
             }
            },
            "header": {
             "fill": {
              "color": "#C8D4E3"
             },
             "line": {
              "color": "white"
             }
            },
            "type": "table"
           }
          ]
         },
         "layout": {
          "annotationdefaults": {
           "arrowcolor": "#2a3f5f",
           "arrowhead": 0,
           "arrowwidth": 1
          },
          "autotypenumbers": "strict",
          "coloraxis": {
           "colorbar": {
            "outlinewidth": 0,
            "ticks": ""
           }
          },
          "colorscale": {
           "diverging": [
            [
             0,
             "#8e0152"
            ],
            [
             0.1,
             "#c51b7d"
            ],
            [
             0.2,
             "#de77ae"
            ],
            [
             0.3,
             "#f1b6da"
            ],
            [
             0.4,
             "#fde0ef"
            ],
            [
             0.5,
             "#f7f7f7"
            ],
            [
             0.6,
             "#e6f5d0"
            ],
            [
             0.7,
             "#b8e186"
            ],
            [
             0.8,
             "#7fbc41"
            ],
            [
             0.9,
             "#4d9221"
            ],
            [
             1,
             "#276419"
            ]
           ],
           "sequential": [
            [
             0,
             "#0d0887"
            ],
            [
             0.1111111111111111,
             "#46039f"
            ],
            [
             0.2222222222222222,
             "#7201a8"
            ],
            [
             0.3333333333333333,
             "#9c179e"
            ],
            [
             0.4444444444444444,
             "#bd3786"
            ],
            [
             0.5555555555555556,
             "#d8576b"
            ],
            [
             0.6666666666666666,
             "#ed7953"
            ],
            [
             0.7777777777777778,
             "#fb9f3a"
            ],
            [
             0.8888888888888888,
             "#fdca26"
            ],
            [
             1,
             "#f0f921"
            ]
           ],
           "sequentialminus": [
            [
             0,
             "#0d0887"
            ],
            [
             0.1111111111111111,
             "#46039f"
            ],
            [
             0.2222222222222222,
             "#7201a8"
            ],
            [
             0.3333333333333333,
             "#9c179e"
            ],
            [
             0.4444444444444444,
             "#bd3786"
            ],
            [
             0.5555555555555556,
             "#d8576b"
            ],
            [
             0.6666666666666666,
             "#ed7953"
            ],
            [
             0.7777777777777778,
             "#fb9f3a"
            ],
            [
             0.8888888888888888,
             "#fdca26"
            ],
            [
             1,
             "#f0f921"
            ]
           ]
          },
          "colorway": [
           "#636efa",
           "#EF553B",
           "#00cc96",
           "#ab63fa",
           "#FFA15A",
           "#19d3f3",
           "#FF6692",
           "#B6E880",
           "#FF97FF",
           "#FECB52"
          ],
          "font": {
           "color": "#2a3f5f"
          },
          "geo": {
           "bgcolor": "white",
           "lakecolor": "white",
           "landcolor": "#E5ECF6",
           "showlakes": true,
           "showland": true,
           "subunitcolor": "white"
          },
          "hoverlabel": {
           "align": "left"
          },
          "hovermode": "closest",
          "mapbox": {
           "style": "light"
          },
          "paper_bgcolor": "white",
          "plot_bgcolor": "#E5ECF6",
          "polar": {
           "angularaxis": {
            "gridcolor": "white",
            "linecolor": "white",
            "ticks": ""
           },
           "bgcolor": "#E5ECF6",
           "radialaxis": {
            "gridcolor": "white",
            "linecolor": "white",
            "ticks": ""
           }
          },
          "scene": {
           "xaxis": {
            "backgroundcolor": "#E5ECF6",
            "gridcolor": "white",
            "gridwidth": 2,
            "linecolor": "white",
            "showbackground": true,
            "ticks": "",
            "zerolinecolor": "white"
           },
           "yaxis": {
            "backgroundcolor": "#E5ECF6",
            "gridcolor": "white",
            "gridwidth": 2,
            "linecolor": "white",
            "showbackground": true,
            "ticks": "",
            "zerolinecolor": "white"
           },
           "zaxis": {
            "backgroundcolor": "#E5ECF6",
            "gridcolor": "white",
            "gridwidth": 2,
            "linecolor": "white",
            "showbackground": true,
            "ticks": "",
            "zerolinecolor": "white"
           }
          },
          "shapedefaults": {
           "line": {
            "color": "#2a3f5f"
           }
          },
          "ternary": {
           "aaxis": {
            "gridcolor": "white",
            "linecolor": "white",
            "ticks": ""
           },
           "baxis": {
            "gridcolor": "white",
            "linecolor": "white",
            "ticks": ""
           },
           "bgcolor": "#E5ECF6",
           "caxis": {
            "gridcolor": "white",
            "linecolor": "white",
            "ticks": ""
           }
          },
          "title": {
           "x": 0.05
          },
          "xaxis": {
           "automargin": true,
           "gridcolor": "white",
           "linecolor": "white",
           "ticks": "",
           "title": {
            "standoff": 15
           },
           "zerolinecolor": "white",
           "zerolinewidth": 2
          },
          "yaxis": {
           "automargin": true,
           "gridcolor": "white",
           "linecolor": "white",
           "ticks": "",
           "title": {
            "standoff": 15
           },
           "zerolinecolor": "white",
           "zerolinewidth": 2
          }
         }
        },
        "title": {
         "text": "4.6 売上のトレンドの確認"
        },
        "xaxis": {
         "anchor": "y",
         "domain": [
          0,
          1
         ],
         "title": {
          "text": "year"
         }
        },
        "yaxis": {
         "anchor": "x",
         "domain": [
          0,
          1
         ],
         "title": {
          "text": "sales"
         }
        }
       }
      },
      "text/html": [
       "<div>                            <div id=\"f621c251-096d-4ecf-8945-c6850b2bd2e7\" class=\"plotly-graph-div\" style=\"height:525px; width:100%;\"></div>            <script type=\"text/javascript\">                require([\"plotly\"], function(Plotly) {                    window.PLOTLYENV=window.PLOTLYENV || {};                                    if (document.getElementById(\"f621c251-096d-4ecf-8945-c6850b2bd2e7\")) {                    Plotly.newPlot(                        \"f621c251-096d-4ecf-8945-c6850b2bd2e7\",                        [{\"hovertemplate\":\"state=CA<br>year=%{x}<br>sales=%{y}<extra></extra>\",\"legendgroup\":\"CA\",\"line\":{\"color\":\"#636efa\",\"dash\":\"solid\"},\"marker\":{\"symbol\":\"circle\"},\"mode\":\"lines\",\"name\":\"CA\",\"orientation\":\"v\",\"showlegend\":true,\"type\":\"scatter\",\"x\":[70,71,72,73,74,75,76,77,78,79,80,81,82,83,84,85,86,87,88,89,90,91,92],\"xaxis\":\"x\",\"y\":[123.0,121.0,123.5,124.4,126.70000000000002,127.1,128.0,126.40000000000002,126.1,121.9,120.2,118.6,115.40000000000002,110.8,104.8,102.8,99.7,97.5,90.1,82.4,77.8,68.7,67.5],\"yaxis\":\"y\"},{\"hovertemplate\":\"state=Rest of US<br>year=%{x}<br>sales=%{y}<extra></extra>\",\"legendgroup\":\"Rest of US\",\"line\":{\"color\":\"#EF553B\",\"dash\":\"solid\"},\"marker\":{\"symbol\":\"circle\"},\"mode\":\"lines\",\"name\":\"Rest of US\",\"orientation\":\"v\",\"showlegend\":true,\"type\":\"scatter\",\"x\":[70,71,72,73,74,75,76,77,78,79,80,81,82,83,84,85,86,87,88,89,90,91,92],\"xaxis\":\"x\",\"y\":[115.0332843178067,118.11756764038488,120.85717941929221,122.8194998435925,126.94044752512308,128.63028737625623,132.79690724381626,134.1759843474535,134.7005829333655,133.21533102817048,134.4499272457649,134.20112869253083,133.2315561977076,129.3158736465581,123.3739071096221,122.45670806948941,120.68700732658984,116.51293056130655,113.41812722909077,110.00204331718439,105.33953399097408,103.51262471643668,102.3941834456037],\"yaxis\":\"y\"}],                        {\"legend\":{\"title\":{\"text\":\"state\"},\"tracegroupgap\":0},\"template\":{\"data\":{\"bar\":[{\"error_x\":{\"color\":\"#2a3f5f\"},\"error_y\":{\"color\":\"#2a3f5f\"},\"marker\":{\"line\":{\"color\":\"#E5ECF6\",\"width\":0.5},\"pattern\":{\"fillmode\":\"overlay\",\"size\":10,\"solidity\":0.2}},\"type\":\"bar\"}],\"barpolar\":[{\"marker\":{\"line\":{\"color\":\"#E5ECF6\",\"width\":0.5},\"pattern\":{\"fillmode\":\"overlay\",\"size\":10,\"solidity\":0.2}},\"type\":\"barpolar\"}],\"carpet\":[{\"aaxis\":{\"endlinecolor\":\"#2a3f5f\",\"gridcolor\":\"white\",\"linecolor\":\"white\",\"minorgridcolor\":\"white\",\"startlinecolor\":\"#2a3f5f\"},\"baxis\":{\"endlinecolor\":\"#2a3f5f\",\"gridcolor\":\"white\",\"linecolor\":\"white\",\"minorgridcolor\":\"white\",\"startlinecolor\":\"#2a3f5f\"},\"type\":\"carpet\"}],\"choropleth\":[{\"colorbar\":{\"outlinewidth\":0,\"ticks\":\"\"},\"type\":\"choropleth\"}],\"contour\":[{\"colorbar\":{\"outlinewidth\":0,\"ticks\":\"\"},\"colorscale\":[[0.0,\"#0d0887\"],[0.1111111111111111,\"#46039f\"],[0.2222222222222222,\"#7201a8\"],[0.3333333333333333,\"#9c179e\"],[0.4444444444444444,\"#bd3786\"],[0.5555555555555556,\"#d8576b\"],[0.6666666666666666,\"#ed7953\"],[0.7777777777777778,\"#fb9f3a\"],[0.8888888888888888,\"#fdca26\"],[1.0,\"#f0f921\"]],\"type\":\"contour\"}],\"contourcarpet\":[{\"colorbar\":{\"outlinewidth\":0,\"ticks\":\"\"},\"type\":\"contourcarpet\"}],\"heatmap\":[{\"colorbar\":{\"outlinewidth\":0,\"ticks\":\"\"},\"colorscale\":[[0.0,\"#0d0887\"],[0.1111111111111111,\"#46039f\"],[0.2222222222222222,\"#7201a8\"],[0.3333333333333333,\"#9c179e\"],[0.4444444444444444,\"#bd3786\"],[0.5555555555555556,\"#d8576b\"],[0.6666666666666666,\"#ed7953\"],[0.7777777777777778,\"#fb9f3a\"],[0.8888888888888888,\"#fdca26\"],[1.0,\"#f0f921\"]],\"type\":\"heatmap\"}],\"heatmapgl\":[{\"colorbar\":{\"outlinewidth\":0,\"ticks\":\"\"},\"colorscale\":[[0.0,\"#0d0887\"],[0.1111111111111111,\"#46039f\"],[0.2222222222222222,\"#7201a8\"],[0.3333333333333333,\"#9c179e\"],[0.4444444444444444,\"#bd3786\"],[0.5555555555555556,\"#d8576b\"],[0.6666666666666666,\"#ed7953\"],[0.7777777777777778,\"#fb9f3a\"],[0.8888888888888888,\"#fdca26\"],[1.0,\"#f0f921\"]],\"type\":\"heatmapgl\"}],\"histogram\":[{\"marker\":{\"pattern\":{\"fillmode\":\"overlay\",\"size\":10,\"solidity\":0.2}},\"type\":\"histogram\"}],\"histogram2d\":[{\"colorbar\":{\"outlinewidth\":0,\"ticks\":\"\"},\"colorscale\":[[0.0,\"#0d0887\"],[0.1111111111111111,\"#46039f\"],[0.2222222222222222,\"#7201a8\"],[0.3333333333333333,\"#9c179e\"],[0.4444444444444444,\"#bd3786\"],[0.5555555555555556,\"#d8576b\"],[0.6666666666666666,\"#ed7953\"],[0.7777777777777778,\"#fb9f3a\"],[0.8888888888888888,\"#fdca26\"],[1.0,\"#f0f921\"]],\"type\":\"histogram2d\"}],\"histogram2dcontour\":[{\"colorbar\":{\"outlinewidth\":0,\"ticks\":\"\"},\"colorscale\":[[0.0,\"#0d0887\"],[0.1111111111111111,\"#46039f\"],[0.2222222222222222,\"#7201a8\"],[0.3333333333333333,\"#9c179e\"],[0.4444444444444444,\"#bd3786\"],[0.5555555555555556,\"#d8576b\"],[0.6666666666666666,\"#ed7953\"],[0.7777777777777778,\"#fb9f3a\"],[0.8888888888888888,\"#fdca26\"],[1.0,\"#f0f921\"]],\"type\":\"histogram2dcontour\"}],\"mesh3d\":[{\"colorbar\":{\"outlinewidth\":0,\"ticks\":\"\"},\"type\":\"mesh3d\"}],\"parcoords\":[{\"line\":{\"colorbar\":{\"outlinewidth\":0,\"ticks\":\"\"}},\"type\":\"parcoords\"}],\"pie\":[{\"automargin\":true,\"type\":\"pie\"}],\"scatter\":[{\"marker\":{\"colorbar\":{\"outlinewidth\":0,\"ticks\":\"\"}},\"type\":\"scatter\"}],\"scatter3d\":[{\"line\":{\"colorbar\":{\"outlinewidth\":0,\"ticks\":\"\"}},\"marker\":{\"colorbar\":{\"outlinewidth\":0,\"ticks\":\"\"}},\"type\":\"scatter3d\"}],\"scattercarpet\":[{\"marker\":{\"colorbar\":{\"outlinewidth\":0,\"ticks\":\"\"}},\"type\":\"scattercarpet\"}],\"scattergeo\":[{\"marker\":{\"colorbar\":{\"outlinewidth\":0,\"ticks\":\"\"}},\"type\":\"scattergeo\"}],\"scattergl\":[{\"marker\":{\"colorbar\":{\"outlinewidth\":0,\"ticks\":\"\"}},\"type\":\"scattergl\"}],\"scattermapbox\":[{\"marker\":{\"colorbar\":{\"outlinewidth\":0,\"ticks\":\"\"}},\"type\":\"scattermapbox\"}],\"scatterpolar\":[{\"marker\":{\"colorbar\":{\"outlinewidth\":0,\"ticks\":\"\"}},\"type\":\"scatterpolar\"}],\"scatterpolargl\":[{\"marker\":{\"colorbar\":{\"outlinewidth\":0,\"ticks\":\"\"}},\"type\":\"scatterpolargl\"}],\"scatterternary\":[{\"marker\":{\"colorbar\":{\"outlinewidth\":0,\"ticks\":\"\"}},\"type\":\"scatterternary\"}],\"surface\":[{\"colorbar\":{\"outlinewidth\":0,\"ticks\":\"\"},\"colorscale\":[[0.0,\"#0d0887\"],[0.1111111111111111,\"#46039f\"],[0.2222222222222222,\"#7201a8\"],[0.3333333333333333,\"#9c179e\"],[0.4444444444444444,\"#bd3786\"],[0.5555555555555556,\"#d8576b\"],[0.6666666666666666,\"#ed7953\"],[0.7777777777777778,\"#fb9f3a\"],[0.8888888888888888,\"#fdca26\"],[1.0,\"#f0f921\"]],\"type\":\"surface\"}],\"table\":[{\"cells\":{\"fill\":{\"color\":\"#EBF0F8\"},\"line\":{\"color\":\"white\"}},\"header\":{\"fill\":{\"color\":\"#C8D4E3\"},\"line\":{\"color\":\"white\"}},\"type\":\"table\"}]},\"layout\":{\"annotationdefaults\":{\"arrowcolor\":\"#2a3f5f\",\"arrowhead\":0,\"arrowwidth\":1},\"autotypenumbers\":\"strict\",\"coloraxis\":{\"colorbar\":{\"outlinewidth\":0,\"ticks\":\"\"}},\"colorscale\":{\"diverging\":[[0,\"#8e0152\"],[0.1,\"#c51b7d\"],[0.2,\"#de77ae\"],[0.3,\"#f1b6da\"],[0.4,\"#fde0ef\"],[0.5,\"#f7f7f7\"],[0.6,\"#e6f5d0\"],[0.7,\"#b8e186\"],[0.8,\"#7fbc41\"],[0.9,\"#4d9221\"],[1,\"#276419\"]],\"sequential\":[[0.0,\"#0d0887\"],[0.1111111111111111,\"#46039f\"],[0.2222222222222222,\"#7201a8\"],[0.3333333333333333,\"#9c179e\"],[0.4444444444444444,\"#bd3786\"],[0.5555555555555556,\"#d8576b\"],[0.6666666666666666,\"#ed7953\"],[0.7777777777777778,\"#fb9f3a\"],[0.8888888888888888,\"#fdca26\"],[1.0,\"#f0f921\"]],\"sequentialminus\":[[0.0,\"#0d0887\"],[0.1111111111111111,\"#46039f\"],[0.2222222222222222,\"#7201a8\"],[0.3333333333333333,\"#9c179e\"],[0.4444444444444444,\"#bd3786\"],[0.5555555555555556,\"#d8576b\"],[0.6666666666666666,\"#ed7953\"],[0.7777777777777778,\"#fb9f3a\"],[0.8888888888888888,\"#fdca26\"],[1.0,\"#f0f921\"]]},\"colorway\":[\"#636efa\",\"#EF553B\",\"#00cc96\",\"#ab63fa\",\"#FFA15A\",\"#19d3f3\",\"#FF6692\",\"#B6E880\",\"#FF97FF\",\"#FECB52\"],\"font\":{\"color\":\"#2a3f5f\"},\"geo\":{\"bgcolor\":\"white\",\"lakecolor\":\"white\",\"landcolor\":\"#E5ECF6\",\"showlakes\":true,\"showland\":true,\"subunitcolor\":\"white\"},\"hoverlabel\":{\"align\":\"left\"},\"hovermode\":\"closest\",\"mapbox\":{\"style\":\"light\"},\"paper_bgcolor\":\"white\",\"plot_bgcolor\":\"#E5ECF6\",\"polar\":{\"angularaxis\":{\"gridcolor\":\"white\",\"linecolor\":\"white\",\"ticks\":\"\"},\"bgcolor\":\"#E5ECF6\",\"radialaxis\":{\"gridcolor\":\"white\",\"linecolor\":\"white\",\"ticks\":\"\"}},\"scene\":{\"xaxis\":{\"backgroundcolor\":\"#E5ECF6\",\"gridcolor\":\"white\",\"gridwidth\":2,\"linecolor\":\"white\",\"showbackground\":true,\"ticks\":\"\",\"zerolinecolor\":\"white\"},\"yaxis\":{\"backgroundcolor\":\"#E5ECF6\",\"gridcolor\":\"white\",\"gridwidth\":2,\"linecolor\":\"white\",\"showbackground\":true,\"ticks\":\"\",\"zerolinecolor\":\"white\"},\"zaxis\":{\"backgroundcolor\":\"#E5ECF6\",\"gridcolor\":\"white\",\"gridwidth\":2,\"linecolor\":\"white\",\"showbackground\":true,\"ticks\":\"\",\"zerolinecolor\":\"white\"}},\"shapedefaults\":{\"line\":{\"color\":\"#2a3f5f\"}},\"ternary\":{\"aaxis\":{\"gridcolor\":\"white\",\"linecolor\":\"white\",\"ticks\":\"\"},\"baxis\":{\"gridcolor\":\"white\",\"linecolor\":\"white\",\"ticks\":\"\"},\"bgcolor\":\"#E5ECF6\",\"caxis\":{\"gridcolor\":\"white\",\"linecolor\":\"white\",\"ticks\":\"\"}},\"title\":{\"x\":0.05},\"xaxis\":{\"automargin\":true,\"gridcolor\":\"white\",\"linecolor\":\"white\",\"ticks\":\"\",\"title\":{\"standoff\":15},\"zerolinecolor\":\"white\",\"zerolinewidth\":2},\"yaxis\":{\"automargin\":true,\"gridcolor\":\"white\",\"linecolor\":\"white\",\"ticks\":\"\",\"title\":{\"standoff\":15},\"zerolinecolor\":\"white\",\"zerolinewidth\":2}}},\"title\":{\"text\":\"4.6 \\u58f2\\u4e0a\\u306e\\u30c8\\u30ec\\u30f3\\u30c9\\u306e\\u78ba\\u8a8d\"},\"xaxis\":{\"anchor\":\"y\",\"domain\":[0.0,1.0],\"title\":{\"text\":\"year\"}},\"yaxis\":{\"anchor\":\"x\",\"domain\":[0.0,1.0],\"title\":{\"text\":\"sales\"}}},                        {\"responsive\": true}                    ).then(function(){\n",
       "                            \n",
       "var gd = document.getElementById('f621c251-096d-4ecf-8945-c6850b2bd2e7');\n",
       "var x = new MutationObserver(function (mutations, observer) {{\n",
       "        var display = window.getComputedStyle(gd).display;\n",
       "        if (!display || display === 'none') {{\n",
       "            console.log([gd, 'removed!']);\n",
       "            Plotly.purge(gd);\n",
       "            observer.disconnect();\n",
       "        }}\n",
       "}});\n",
       "\n",
       "// Listen for the removal of the full notebook cells\n",
       "var notebookContainer = gd.closest('#notebook-container');\n",
       "if (notebookContainer) {{\n",
       "    x.observe(notebookContainer, {childList: true});\n",
       "}}\n",
       "\n",
       "// Listen for the clearing of the current output cell\n",
       "var outputEl = gd.closest('.output');\n",
       "if (outputEl) {{\n",
       "    x.observe(outputEl, {childList: true});\n",
       "}}\n",
       "\n",
       "                        })                };                });            </script>        </div>"
      ]
     },
     "metadata": {},
     "output_type": "display_data"
    }
   ],
   "source": [
    "fig = px.line(sales_trend, x='year', y='sales', color='state', title='4.6 売上のトレンドの確認')\n",
    "fig.show()"
   ]
  },
  {
   "cell_type": "code",
   "execution_count": null,
   "metadata": {
    "ExecuteTime": {
     "end_time": "2021-09-11T09:26:55.901273Z",
     "start_time": "2021-09-11T09:26:55.894888Z"
    }
   },
   "outputs": [],
   "source": [
    "fig.write_html('../images/ch4_plot3.html', auto_open=False)"
   ]
  },
  {
   "attachments": {},
   "cell_type": "markdown",
   "metadata": {},
   "source": [
    "## (8) DIDのためのデータを準備"
   ]
  },
  {
   "cell_type": "code",
   "execution_count": null,
   "metadata": {
    "ExecuteTime": {
     "end_time": "2021-09-11T09:26:55.917339Z",
     "start_time": "2021-09-11T09:26:55.902240Z"
    }
   },
   "outputs": [],
   "source": [
    "cigar['post'] = cigar.year.apply(lambda x: 1 if x > 87 else 0)\n",
    "cigar['ca'] = cigar.state.apply(lambda x: 1 if x == 5 else 0)\n",
    "cigar['sales_pop16'] = cigar['sales'] * cigar['pop16']"
   ]
  },
  {
   "cell_type": "code",
   "execution_count": null,
   "metadata": {
    "ExecuteTime": {
     "end_time": "2021-09-11T09:26:55.953879Z",
     "start_time": "2021-09-11T09:26:55.918137Z"
    }
   },
   "outputs": [],
   "source": [
    "cigar_did_sum = cigar.groupby(['post', 'year', 'ca'], as_index=False)['pop16', 'sales_pop16'].mean()\n",
    "cigar_did_sum['sales'] = cigar_did_sum.sales_pop16 / cigar_did_sum.pop16\n",
    "cigar_did_sum['ca_post'] = cigar_did_sum.ca * cigar_did_sum.post\n",
    "\n",
    "## カリフォルニア州とその他の州という州ごとでのデータ\n",
    "cigar_did_data = cigar.groupby(['post', 'year', 'state'], as_index=False)['pop16', 'sales_pop16'].mean()\n",
    "cigar_did_data['sales'] = cigar_did_data.sales_pop16 / cigar_did_data.pop16"
   ]
  },
  {
   "attachments": {},
   "cell_type": "markdown",
   "metadata": {},
   "source": [
    "## (9) カリフォルニア州とその他というグループでの分析"
   ]
  },
  {
   "cell_type": "code",
   "execution_count": null,
   "metadata": {
    "ExecuteTime": {
     "end_time": "2021-09-11T09:26:55.998902Z",
     "start_time": "2021-09-11T09:26:55.955506Z"
    }
   },
   "outputs": [
    {
     "data": {
      "text/html": [
       "<div>\n",
       "<style scoped>\n",
       "    .dataframe tbody tr th:only-of-type {\n",
       "        vertical-align: middle;\n",
       "    }\n",
       "\n",
       "    .dataframe tbody tr th {\n",
       "        vertical-align: top;\n",
       "    }\n",
       "\n",
       "    .dataframe thead th {\n",
       "        text-align: right;\n",
       "    }\n",
       "</style>\n",
       "<table border=\"1\" class=\"dataframe\">\n",
       "  <thead>\n",
       "    <tr style=\"text-align: right;\">\n",
       "      <th></th>\n",
       "      <th>coef</th>\n",
       "      <th>std err</th>\n",
       "      <th>t</th>\n",
       "      <th>P&gt;|t|</th>\n",
       "      <th>[0.025</th>\n",
       "      <th>0.975]</th>\n",
       "    </tr>\n",
       "  </thead>\n",
       "  <tbody>\n",
       "    <tr>\n",
       "      <th>const</th>\n",
       "      <td>123.5615</td>\n",
       "      <td>4.519</td>\n",
       "      <td>27.340</td>\n",
       "      <td>0.000</td>\n",
       "      <td>114.163</td>\n",
       "      <td>132.960</td>\n",
       "    </tr>\n",
       "    <tr>\n",
       "      <th>ca</th>\n",
       "      <td>-9.0898</td>\n",
       "      <td>2.074</td>\n",
       "      <td>-4.384</td>\n",
       "      <td>0.000</td>\n",
       "      <td>-13.402</td>\n",
       "      <td>-4.777</td>\n",
       "    </tr>\n",
       "    <tr>\n",
       "      <th>post</th>\n",
       "      <td>-13.8569</td>\n",
       "      <td>4.423</td>\n",
       "      <td>-3.133</td>\n",
       "      <td>0.005</td>\n",
       "      <td>-23.054</td>\n",
       "      <td>-4.660</td>\n",
       "    </tr>\n",
       "    <tr>\n",
       "      <th>ca_post</th>\n",
       "      <td>-20.5435</td>\n",
       "      <td>4.447</td>\n",
       "      <td>-4.619</td>\n",
       "      <td>0.000</td>\n",
       "      <td>-29.792</td>\n",
       "      <td>-11.295</td>\n",
       "    </tr>\n",
       "  </tbody>\n",
       "</table>\n",
       "</div>"
      ],
      "text/plain": [
       "             coef  std err       t  P>|t|   [0.025   0.975]\n",
       "const    123.5615    4.519  27.340  0.000  114.163  132.960\n",
       "ca        -9.0898    2.074  -4.384  0.000  -13.402   -4.777\n",
       "post     -13.8569    4.423  -3.133  0.005  -23.054   -4.660\n",
       "ca_post  -20.5435    4.447  -4.619  0.000  -29.792  -11.295"
      ]
     },
     "execution_count": 23,
     "metadata": {},
     "output_type": "execute_result"
    }
   ],
   "source": [
    "## 2グループでのデータでの分析\n",
    "y = cigar_did_sum.sales\n",
    "X = pd.get_dummies(cigar_did_sum[['ca', 'post', 'ca_post', 'year']], columns=['year'], drop_first=True)\n",
    "X = sm.add_constant(X)\n",
    "results = sm.OLS(y, X).fit()\n",
    "coef = results.summary().tables[1]\n",
    "coef = pd.read_html(coef.as_html(), header=0, index_col=0)[0]\n",
    "coef.iloc[:4]"
   ]
  },
  {
   "cell_type": "code",
   "execution_count": null,
   "metadata": {
    "ExecuteTime": {
     "end_time": "2021-09-11T09:26:56.045434Z",
     "start_time": "2021-09-11T09:26:56.000644Z"
    }
   },
   "outputs": [
    {
     "data": {
      "text/html": [
       "<div>\n",
       "<style scoped>\n",
       "    .dataframe tbody tr th:only-of-type {\n",
       "        vertical-align: middle;\n",
       "    }\n",
       "\n",
       "    .dataframe tbody tr th {\n",
       "        vertical-align: top;\n",
       "    }\n",
       "\n",
       "    .dataframe thead th {\n",
       "        text-align: right;\n",
       "    }\n",
       "</style>\n",
       "<table border=\"1\" class=\"dataframe\">\n",
       "  <thead>\n",
       "    <tr style=\"text-align: right;\">\n",
       "      <th></th>\n",
       "      <th>coef</th>\n",
       "      <th>std err</th>\n",
       "      <th>t</th>\n",
       "      <th>P&gt;|t|</th>\n",
       "      <th>[0.025</th>\n",
       "      <th>0.975]</th>\n",
       "    </tr>\n",
       "  </thead>\n",
       "  <tbody>\n",
       "    <tr>\n",
       "      <th>const</th>\n",
       "      <td>4.8171</td>\n",
       "      <td>0.042</td>\n",
       "      <td>114.363</td>\n",
       "      <td>0.000</td>\n",
       "      <td>4.729</td>\n",
       "      <td>4.905</td>\n",
       "    </tr>\n",
       "    <tr>\n",
       "      <th>ca</th>\n",
       "      <td>-0.0767</td>\n",
       "      <td>0.019</td>\n",
       "      <td>-3.969</td>\n",
       "      <td>0.001</td>\n",
       "      <td>-0.117</td>\n",
       "      <td>-0.037</td>\n",
       "    </tr>\n",
       "    <tr>\n",
       "      <th>post</th>\n",
       "      <td>-0.1213</td>\n",
       "      <td>0.041</td>\n",
       "      <td>-2.944</td>\n",
       "      <td>0.008</td>\n",
       "      <td>-0.207</td>\n",
       "      <td>-0.036</td>\n",
       "    </tr>\n",
       "    <tr>\n",
       "      <th>ca_post</th>\n",
       "      <td>-0.2530</td>\n",
       "      <td>0.041</td>\n",
       "      <td>-6.105</td>\n",
       "      <td>0.000</td>\n",
       "      <td>-0.339</td>\n",
       "      <td>-0.167</td>\n",
       "    </tr>\n",
       "  </tbody>\n",
       "</table>\n",
       "</div>"
      ],
      "text/plain": [
       "           coef  std err        t  P>|t|  [0.025  0.975]\n",
       "const    4.8171    0.042  114.363  0.000   4.729   4.905\n",
       "ca      -0.0767    0.019   -3.969  0.001  -0.117  -0.037\n",
       "post    -0.1213    0.041   -2.944  0.008  -0.207  -0.036\n",
       "ca_post -0.2530    0.041   -6.105  0.000  -0.339  -0.167"
      ]
     },
     "execution_count": 24,
     "metadata": {},
     "output_type": "execute_result"
    }
   ],
   "source": [
    "## 2グループでのデータでの分析(log)\n",
    "y = np.log(cigar_did_sum.sales)\n",
    "X = pd.get_dummies(cigar_did_sum[['ca', 'post', 'ca_post', 'year']], columns=['year'], drop_first=True)\n",
    "X = sm.add_constant(X)\n",
    "results = sm.OLS(y, X).fit()\n",
    "coef = results.summary().tables[1]\n",
    "coef = pd.read_html(coef.as_html(), header=0, index_col=0)[0]\n",
    "coef.iloc[:4]"
   ]
  },
  {
   "attachments": {},
   "cell_type": "markdown",
   "metadata": {},
   "source": [
    "(10) 州ごとのデータでの分析については、書籍に記載がなくよくわからないので飛ばします"
   ]
  },
  {
   "attachments": {},
   "cell_type": "markdown",
   "metadata": {},
   "source": [
    "## (11) CausalImpactを利用した分析\n",
    "tfcausalimpact: https://github.com/WillianFuks/tfcausalimpact"
   ]
  },
  {
   "cell_type": "code",
   "execution_count": 16,
   "metadata": {
    "ExecuteTime": {
     "end_time": "2021-09-11T09:27:21.512244Z",
     "start_time": "2021-09-11T09:26:56.047202Z"
    },
    "scrolled": false
   },
   "outputs": [
    {
     "name": "stderr",
     "output_type": "stream",
     "text": [
      " This problem is unconstrained.\n"
     ]
    },
    {
     "name": "stdout",
     "output_type": "stream",
     "text": [
      "RUNNING THE L-BFGS-B CODE\n",
      "\n",
      "           * * *\n",
      "\n",
      "Machine precision = 2.220D-16\n",
      " N =           38     M =           10\n",
      "\n",
      "At X0         0 variables are exactly at the bounds\n",
      "\n",
      "At iterate    0    f=  7.18149D-01    |proj g|=  1.08528D+00\n",
      "  ys=-5.568E-01  -gs= 1.057E+00 BFGS update SKIPPED\n",
      "\n",
      "At iterate    5    f= -1.15190D+00    |proj g|=  7.30751D+00\n",
      "\n",
      "At iterate   10    f= -1.99048D+00    |proj g|=  5.11931D+00\n",
      "\n",
      "At iterate   15    f= -2.51035D+00    |proj g|=  1.01409D+01\n",
      "\n",
      "At iterate   20    f= -2.99120D+00    |proj g|=  3.00652D+01\n",
      "\n",
      "At iterate   25    f= -3.90689D+00    |proj g|=  6.35239D+01\n",
      "\n",
      "At iterate   30    f= -4.13520D+00    |proj g|=  8.60805D+01\n",
      "\n",
      "At iterate   35    f= -4.44483D+00    |proj g|=  1.51813D+02\n",
      "\n",
      "At iterate   40    f= -4.67388D+00    |proj g|=  1.28394D+02\n",
      "\n",
      "At iterate   45    f= -5.09685D+00    |proj g|=  3.29499D+02\n",
      "\n",
      "At iterate   50    f= -5.42378D+00    |proj g|=  2.06138D+02\n",
      "\n",
      "At iterate   55    f= -5.61645D+00    |proj g|=  2.12594D+02\n",
      "\n",
      "At iterate   60    f= -5.94755D+00    |proj g|=  3.54784D+02\n",
      "\n",
      "At iterate   65    f= -6.19167D+00    |proj g|=  3.96045D+02\n",
      "\n",
      "At iterate   70    f= -6.58097D+00    |proj g|=  1.20994D+03\n",
      "\n",
      "At iterate   75    f= -7.13253D+00    |proj g|=  4.26362D+03\n",
      "\n",
      "At iterate   80    f= -7.71510D+00    |proj g|=  5.74670D+03\n",
      "\n",
      "At iterate   85    f= -8.39825D+00    |proj g|=  8.76591D+03\n",
      "\n",
      "At iterate   90    f= -8.62371D+00    |proj g|=  1.04490D+04\n",
      "\n",
      "At iterate   95    f= -8.71388D+00    |proj g|=  1.03900D+04\n",
      "\n",
      "           * * *\n",
      "\n",
      "Tit   = total number of iterations\n",
      "Tnf   = total number of function evaluations\n",
      "Tnint = total number of segments explored during Cauchy searches\n",
      "Skip  = number of BFGS updates skipped\n",
      "Nact  = number of active bounds at final generalized Cauchy point\n",
      "Projg = norm of the final projected gradient\n",
      "F     = final function value\n",
      "\n",
      "           * * *\n",
      "\n",
      "   N    Tit     Tnf  Tnint  Skip  Nact     Projg        F\n",
      "   38     95    201      2     1     0   1.039D+04  -8.714D+00\n",
      "  F =  -8.7138825986871780     \n",
      "\n",
      "CONVERGENCE: REL_REDUCTION_OF_F_<=_FACTR*EPSMCH             \n"
     ]
    },
    {
     "name": "stderr",
     "output_type": "stream",
     "text": [
      "\n",
      " Warning:  more than 10 function and gradient\n",
      "   evaluations in the last line search.  Termination\n",
      "   may possibly be caused by a bad search direction.\n"
     ]
    },
    {
     "data": {
      "image/png": "[encoded data removed]",
      "text/plain": [
       "<Figure size 1500x1200 with 3 Axes>"
      ]
     },
     "metadata": {},
     "output_type": "display_data"
    }
   ],
   "source": [
    "y = cigar[cigar.state == 5][['year', 'sales']].set_index('year')\n",
    "y.columns = ['y']\n",
    "X = pd.pivot_table(cigar[cigar.state != 5][['year', 'state', 'sales']], values='sales', index='year', columns='state').add_prefix('X_')\n",
    "data = pd.concat([y, X], axis=1)\n",
    "\n",
    "pre_period = [70, 87]\n",
    "post_period = [88, 92]\n",
    "ci = CausalImpact(data, pre_period, post_period, model_args={'fit_method': 'hmc'})\n",
    "ci.run()\n",
    "ci.plot()"
   ]
  },
  {
   "cell_type": "code",
   "execution_count": null,
   "metadata": {
    "ExecuteTime": {
     "end_time": "2021-09-11T09:27:21.517214Z",
     "start_time": "2021-09-11T09:27:21.513200Z"
    }
   },
   "outputs": [
    {
     "name": "stdout",
     "output_type": "stream",
     "text": [
      "Posterior Inference {Causal Impact}\n",
      "                          Average            Cumulative\n",
      "Actual                    77.3               386.5\n",
      "Prediction (s.d.)         89.61 (7.89)       448.05 (39.45)\n",
      "95% CI                    [71.48, 102.41]    [357.42, 512.04]\n",
      "\n",
      "Absolute effect (s.d.)    -12.31 (7.89)      -61.55 (39.45)\n",
      "95% CI                    [-25.11, 5.82]     [-125.54, 29.08]\n",
      "\n",
      "Relative effect (s.d.)    -13.74% (8.8%)     -13.74% (8.8%)\n",
      "95% CI                    [-28.02%, 6.49%]   [-28.02%, 6.49%]\n",
      "\n",
      "Posterior tail-area probability p: 0.07\n",
      "Posterior prob. of a causal effect: 93.01%\n",
      "\n",
      "For more details run the command: print(impact.summary('report'))\n"
     ]
    }
   ],
   "source": [
    "print(ci.summary())"
   ]
  },
  {
   "cell_type": "code",
   "execution_count": null,
   "metadata": {},
   "outputs": [],
   "source": []
  }
 ],
 "metadata": {
  "kernelspec": {
   "display_name": "Python 3 (ipykernel)",
   "language": "python",
   "name": "python3"
  },
  "language_info": {
   "codemirror_mode": {
    "name": "ipython",
    "version": 3
   },
   "file_extension": ".py",
   "mimetype": "text/x-python",
   "name": "python",
   "nbconvert_exporter": "python",
   "pygments_lexer": "ipython3",
   "version": "3.9.6"
  }
 },
 "nbformat": 4,
 "nbformat_minor": 2
}
